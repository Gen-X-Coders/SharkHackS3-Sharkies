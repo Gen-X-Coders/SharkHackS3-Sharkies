{
 "cells": [
  {
   "cell_type": "code",
   "execution_count": 1,
   "id": "1ca304b9",
   "metadata": {},
   "outputs": [],
   "source": [
    "import numpy as np\n",
    "import pandas as pd\n",
    "import matplotlib.pyplot as plt\n",
    "import seaborn as sns"
   ]
  },
  {
   "cell_type": "code",
   "execution_count": 2,
   "id": "ca879e80",
   "metadata": {},
   "outputs": [],
   "source": [
    "df = pd.read_csv(\"attacks.csv\", encoding='latin-1')"
   ]
  },
  {
   "cell_type": "code",
   "execution_count": 3,
   "id": "fbf9aad4",
   "metadata": {},
   "outputs": [
    {
     "data": {
      "text/html": [
       "<div>\n",
       "<style scoped>\n",
       "    .dataframe tbody tr th:only-of-type {\n",
       "        vertical-align: middle;\n",
       "    }\n",
       "\n",
       "    .dataframe tbody tr th {\n",
       "        vertical-align: top;\n",
       "    }\n",
       "\n",
       "    .dataframe thead th {\n",
       "        text-align: right;\n",
       "    }\n",
       "</style>\n",
       "<table border=\"1\" class=\"dataframe\">\n",
       "  <thead>\n",
       "    <tr style=\"text-align: right;\">\n",
       "      <th></th>\n",
       "      <th>Case Number</th>\n",
       "      <th>Date</th>\n",
       "      <th>Year</th>\n",
       "      <th>Type</th>\n",
       "      <th>Country</th>\n",
       "      <th>Area</th>\n",
       "      <th>Location</th>\n",
       "      <th>Activity</th>\n",
       "      <th>Name</th>\n",
       "      <th>Sex</th>\n",
       "      <th>...</th>\n",
       "      <th>Species</th>\n",
       "      <th>Investigator or Source</th>\n",
       "      <th>pdf</th>\n",
       "      <th>href formula</th>\n",
       "      <th>href</th>\n",
       "      <th>Case Number.1</th>\n",
       "      <th>Case Number.2</th>\n",
       "      <th>original order</th>\n",
       "      <th>Unnamed: 22</th>\n",
       "      <th>Unnamed: 23</th>\n",
       "    </tr>\n",
       "  </thead>\n",
       "  <tbody>\n",
       "    <tr>\n",
       "      <th>0</th>\n",
       "      <td>2018.06.25</td>\n",
       "      <td>25-Jun-2018</td>\n",
       "      <td>2018.0</td>\n",
       "      <td>Boating</td>\n",
       "      <td>USA</td>\n",
       "      <td>California</td>\n",
       "      <td>Oceanside, San Diego County</td>\n",
       "      <td>Paddling</td>\n",
       "      <td>Julie Wolfe</td>\n",
       "      <td>F</td>\n",
       "      <td>...</td>\n",
       "      <td>White shark</td>\n",
       "      <td>R. Collier, GSAF</td>\n",
       "      <td>2018.06.25-Wolfe.pdf</td>\n",
       "      <td>http://sharkattackfile.net/spreadsheets/pdf_di...</td>\n",
       "      <td>http://sharkattackfile.net/spreadsheets/pdf_di...</td>\n",
       "      <td>2018.06.25</td>\n",
       "      <td>2018.06.25</td>\n",
       "      <td>6303.0</td>\n",
       "      <td>NaN</td>\n",
       "      <td>NaN</td>\n",
       "    </tr>\n",
       "    <tr>\n",
       "      <th>1</th>\n",
       "      <td>2018.06.18</td>\n",
       "      <td>18-Jun-2018</td>\n",
       "      <td>2018.0</td>\n",
       "      <td>Unprovoked</td>\n",
       "      <td>USA</td>\n",
       "      <td>Georgia</td>\n",
       "      <td>St. Simon Island, Glynn County</td>\n",
       "      <td>Standing</td>\n",
       "      <td>Adyson McNeely</td>\n",
       "      <td>F</td>\n",
       "      <td>...</td>\n",
       "      <td>NaN</td>\n",
       "      <td>K.McMurray, TrackingSharks.com</td>\n",
       "      <td>2018.06.18-McNeely.pdf</td>\n",
       "      <td>http://sharkattackfile.net/spreadsheets/pdf_di...</td>\n",
       "      <td>http://sharkattackfile.net/spreadsheets/pdf_di...</td>\n",
       "      <td>2018.06.18</td>\n",
       "      <td>2018.06.18</td>\n",
       "      <td>6302.0</td>\n",
       "      <td>NaN</td>\n",
       "      <td>NaN</td>\n",
       "    </tr>\n",
       "    <tr>\n",
       "      <th>2</th>\n",
       "      <td>2018.06.09</td>\n",
       "      <td>09-Jun-2018</td>\n",
       "      <td>2018.0</td>\n",
       "      <td>Invalid</td>\n",
       "      <td>USA</td>\n",
       "      <td>Hawaii</td>\n",
       "      <td>Habush, Oahu</td>\n",
       "      <td>Surfing</td>\n",
       "      <td>John Denges</td>\n",
       "      <td>M</td>\n",
       "      <td>...</td>\n",
       "      <td>NaN</td>\n",
       "      <td>K.McMurray, TrackingSharks.com</td>\n",
       "      <td>2018.06.09-Denges.pdf</td>\n",
       "      <td>http://sharkattackfile.net/spreadsheets/pdf_di...</td>\n",
       "      <td>http://sharkattackfile.net/spreadsheets/pdf_di...</td>\n",
       "      <td>2018.06.09</td>\n",
       "      <td>2018.06.09</td>\n",
       "      <td>6301.0</td>\n",
       "      <td>NaN</td>\n",
       "      <td>NaN</td>\n",
       "    </tr>\n",
       "    <tr>\n",
       "      <th>3</th>\n",
       "      <td>2018.06.08</td>\n",
       "      <td>08-Jun-2018</td>\n",
       "      <td>2018.0</td>\n",
       "      <td>Unprovoked</td>\n",
       "      <td>AUSTRALIA</td>\n",
       "      <td>New South Wales</td>\n",
       "      <td>Arrawarra Headland</td>\n",
       "      <td>Surfing</td>\n",
       "      <td>male</td>\n",
       "      <td>M</td>\n",
       "      <td>...</td>\n",
       "      <td>2 m shark</td>\n",
       "      <td>B. Myatt, GSAF</td>\n",
       "      <td>2018.06.08-Arrawarra.pdf</td>\n",
       "      <td>http://sharkattackfile.net/spreadsheets/pdf_di...</td>\n",
       "      <td>http://sharkattackfile.net/spreadsheets/pdf_di...</td>\n",
       "      <td>2018.06.08</td>\n",
       "      <td>2018.06.08</td>\n",
       "      <td>6300.0</td>\n",
       "      <td>NaN</td>\n",
       "      <td>NaN</td>\n",
       "    </tr>\n",
       "    <tr>\n",
       "      <th>4</th>\n",
       "      <td>2018.06.04</td>\n",
       "      <td>04-Jun-2018</td>\n",
       "      <td>2018.0</td>\n",
       "      <td>Provoked</td>\n",
       "      <td>MEXICO</td>\n",
       "      <td>Colima</td>\n",
       "      <td>La Ticla</td>\n",
       "      <td>Free diving</td>\n",
       "      <td>Gustavo Ramos</td>\n",
       "      <td>M</td>\n",
       "      <td>...</td>\n",
       "      <td>Tiger shark, 3m</td>\n",
       "      <td>A .Kipper</td>\n",
       "      <td>2018.06.04-Ramos.pdf</td>\n",
       "      <td>http://sharkattackfile.net/spreadsheets/pdf_di...</td>\n",
       "      <td>http://sharkattackfile.net/spreadsheets/pdf_di...</td>\n",
       "      <td>2018.06.04</td>\n",
       "      <td>2018.06.04</td>\n",
       "      <td>6299.0</td>\n",
       "      <td>NaN</td>\n",
       "      <td>NaN</td>\n",
       "    </tr>\n",
       "    <tr>\n",
       "      <th>...</th>\n",
       "      <td>...</td>\n",
       "      <td>...</td>\n",
       "      <td>...</td>\n",
       "      <td>...</td>\n",
       "      <td>...</td>\n",
       "      <td>...</td>\n",
       "      <td>...</td>\n",
       "      <td>...</td>\n",
       "      <td>...</td>\n",
       "      <td>...</td>\n",
       "      <td>...</td>\n",
       "      <td>...</td>\n",
       "      <td>...</td>\n",
       "      <td>...</td>\n",
       "      <td>...</td>\n",
       "      <td>...</td>\n",
       "      <td>...</td>\n",
       "      <td>...</td>\n",
       "      <td>...</td>\n",
       "      <td>...</td>\n",
       "      <td>...</td>\n",
       "    </tr>\n",
       "    <tr>\n",
       "      <th>25718</th>\n",
       "      <td>NaN</td>\n",
       "      <td>NaN</td>\n",
       "      <td>NaN</td>\n",
       "      <td>NaN</td>\n",
       "      <td>NaN</td>\n",
       "      <td>NaN</td>\n",
       "      <td>NaN</td>\n",
       "      <td>NaN</td>\n",
       "      <td>NaN</td>\n",
       "      <td>NaN</td>\n",
       "      <td>...</td>\n",
       "      <td>NaN</td>\n",
       "      <td>NaN</td>\n",
       "      <td>NaN</td>\n",
       "      <td>NaN</td>\n",
       "      <td>NaN</td>\n",
       "      <td>NaN</td>\n",
       "      <td>NaN</td>\n",
       "      <td>NaN</td>\n",
       "      <td>NaN</td>\n",
       "      <td>NaN</td>\n",
       "    </tr>\n",
       "    <tr>\n",
       "      <th>25719</th>\n",
       "      <td>NaN</td>\n",
       "      <td>NaN</td>\n",
       "      <td>NaN</td>\n",
       "      <td>NaN</td>\n",
       "      <td>NaN</td>\n",
       "      <td>NaN</td>\n",
       "      <td>NaN</td>\n",
       "      <td>NaN</td>\n",
       "      <td>NaN</td>\n",
       "      <td>NaN</td>\n",
       "      <td>...</td>\n",
       "      <td>NaN</td>\n",
       "      <td>NaN</td>\n",
       "      <td>NaN</td>\n",
       "      <td>NaN</td>\n",
       "      <td>NaN</td>\n",
       "      <td>NaN</td>\n",
       "      <td>NaN</td>\n",
       "      <td>NaN</td>\n",
       "      <td>NaN</td>\n",
       "      <td>NaN</td>\n",
       "    </tr>\n",
       "    <tr>\n",
       "      <th>25720</th>\n",
       "      <td>NaN</td>\n",
       "      <td>NaN</td>\n",
       "      <td>NaN</td>\n",
       "      <td>NaN</td>\n",
       "      <td>NaN</td>\n",
       "      <td>NaN</td>\n",
       "      <td>NaN</td>\n",
       "      <td>NaN</td>\n",
       "      <td>NaN</td>\n",
       "      <td>NaN</td>\n",
       "      <td>...</td>\n",
       "      <td>NaN</td>\n",
       "      <td>NaN</td>\n",
       "      <td>NaN</td>\n",
       "      <td>NaN</td>\n",
       "      <td>NaN</td>\n",
       "      <td>NaN</td>\n",
       "      <td>NaN</td>\n",
       "      <td>NaN</td>\n",
       "      <td>NaN</td>\n",
       "      <td>NaN</td>\n",
       "    </tr>\n",
       "    <tr>\n",
       "      <th>25721</th>\n",
       "      <td>NaN</td>\n",
       "      <td>NaN</td>\n",
       "      <td>NaN</td>\n",
       "      <td>NaN</td>\n",
       "      <td>NaN</td>\n",
       "      <td>NaN</td>\n",
       "      <td>NaN</td>\n",
       "      <td>NaN</td>\n",
       "      <td>NaN</td>\n",
       "      <td>NaN</td>\n",
       "      <td>...</td>\n",
       "      <td>NaN</td>\n",
       "      <td>NaN</td>\n",
       "      <td>NaN</td>\n",
       "      <td>NaN</td>\n",
       "      <td>NaN</td>\n",
       "      <td>NaN</td>\n",
       "      <td>NaN</td>\n",
       "      <td>NaN</td>\n",
       "      <td>NaN</td>\n",
       "      <td>NaN</td>\n",
       "    </tr>\n",
       "    <tr>\n",
       "      <th>25722</th>\n",
       "      <td>xx</td>\n",
       "      <td>NaN</td>\n",
       "      <td>NaN</td>\n",
       "      <td>NaN</td>\n",
       "      <td>NaN</td>\n",
       "      <td>NaN</td>\n",
       "      <td>NaN</td>\n",
       "      <td>NaN</td>\n",
       "      <td>NaN</td>\n",
       "      <td>NaN</td>\n",
       "      <td>...</td>\n",
       "      <td>NaN</td>\n",
       "      <td>NaN</td>\n",
       "      <td>NaN</td>\n",
       "      <td>NaN</td>\n",
       "      <td>NaN</td>\n",
       "      <td>NaN</td>\n",
       "      <td>NaN</td>\n",
       "      <td>NaN</td>\n",
       "      <td>NaN</td>\n",
       "      <td>NaN</td>\n",
       "    </tr>\n",
       "  </tbody>\n",
       "</table>\n",
       "<p>25723 rows × 24 columns</p>\n",
       "</div>"
      ],
      "text/plain": [
       "      Case Number         Date    Year        Type    Country  \\\n",
       "0      2018.06.25  25-Jun-2018  2018.0     Boating        USA   \n",
       "1      2018.06.18  18-Jun-2018  2018.0  Unprovoked        USA   \n",
       "2      2018.06.09  09-Jun-2018  2018.0     Invalid        USA   \n",
       "3      2018.06.08  08-Jun-2018  2018.0  Unprovoked  AUSTRALIA   \n",
       "4      2018.06.04  04-Jun-2018  2018.0    Provoked     MEXICO   \n",
       "...           ...          ...     ...         ...        ...   \n",
       "25718         NaN          NaN     NaN         NaN        NaN   \n",
       "25719         NaN          NaN     NaN         NaN        NaN   \n",
       "25720         NaN          NaN     NaN         NaN        NaN   \n",
       "25721         NaN          NaN     NaN         NaN        NaN   \n",
       "25722          xx          NaN     NaN         NaN        NaN   \n",
       "\n",
       "                  Area                        Location     Activity  \\\n",
       "0           California     Oceanside, San Diego County     Paddling   \n",
       "1              Georgia  St. Simon Island, Glynn County     Standing   \n",
       "2               Hawaii                    Habush, Oahu      Surfing   \n",
       "3      New South Wales              Arrawarra Headland      Surfing   \n",
       "4               Colima                        La Ticla  Free diving   \n",
       "...                ...                             ...          ...   \n",
       "25718              NaN                             NaN          NaN   \n",
       "25719              NaN                             NaN          NaN   \n",
       "25720              NaN                             NaN          NaN   \n",
       "25721              NaN                             NaN          NaN   \n",
       "25722              NaN                             NaN          NaN   \n",
       "\n",
       "                  Name Sex   ...         Species   \\\n",
       "0          Julie Wolfe    F  ...      White shark   \n",
       "1      Adyson McNeely     F  ...              NaN   \n",
       "2          John Denges    M  ...              NaN   \n",
       "3                 male    M  ...        2 m shark   \n",
       "4       Gustavo Ramos     M  ...  Tiger shark, 3m   \n",
       "...                ...  ...  ...              ...   \n",
       "25718              NaN  NaN  ...              NaN   \n",
       "25719              NaN  NaN  ...              NaN   \n",
       "25720              NaN  NaN  ...              NaN   \n",
       "25721              NaN  NaN  ...              NaN   \n",
       "25722              NaN  NaN  ...              NaN   \n",
       "\n",
       "               Investigator or Source                       pdf  \\\n",
       "0                    R. Collier, GSAF      2018.06.25-Wolfe.pdf   \n",
       "1      K.McMurray, TrackingSharks.com    2018.06.18-McNeely.pdf   \n",
       "2      K.McMurray, TrackingSharks.com     2018.06.09-Denges.pdf   \n",
       "3                      B. Myatt, GSAF  2018.06.08-Arrawarra.pdf   \n",
       "4                           A .Kipper      2018.06.04-Ramos.pdf   \n",
       "...                               ...                       ...   \n",
       "25718                             NaN                       NaN   \n",
       "25719                             NaN                       NaN   \n",
       "25720                             NaN                       NaN   \n",
       "25721                             NaN                       NaN   \n",
       "25722                             NaN                       NaN   \n",
       "\n",
       "                                            href formula  \\\n",
       "0      http://sharkattackfile.net/spreadsheets/pdf_di...   \n",
       "1      http://sharkattackfile.net/spreadsheets/pdf_di...   \n",
       "2      http://sharkattackfile.net/spreadsheets/pdf_di...   \n",
       "3      http://sharkattackfile.net/spreadsheets/pdf_di...   \n",
       "4      http://sharkattackfile.net/spreadsheets/pdf_di...   \n",
       "...                                                  ...   \n",
       "25718                                                NaN   \n",
       "25719                                                NaN   \n",
       "25720                                                NaN   \n",
       "25721                                                NaN   \n",
       "25722                                                NaN   \n",
       "\n",
       "                                                    href Case Number.1  \\\n",
       "0      http://sharkattackfile.net/spreadsheets/pdf_di...    2018.06.25   \n",
       "1      http://sharkattackfile.net/spreadsheets/pdf_di...    2018.06.18   \n",
       "2      http://sharkattackfile.net/spreadsheets/pdf_di...    2018.06.09   \n",
       "3      http://sharkattackfile.net/spreadsheets/pdf_di...    2018.06.08   \n",
       "4      http://sharkattackfile.net/spreadsheets/pdf_di...    2018.06.04   \n",
       "...                                                  ...           ...   \n",
       "25718                                                NaN           NaN   \n",
       "25719                                                NaN           NaN   \n",
       "25720                                                NaN           NaN   \n",
       "25721                                                NaN           NaN   \n",
       "25722                                                NaN           NaN   \n",
       "\n",
       "      Case Number.2 original order Unnamed: 22 Unnamed: 23  \n",
       "0        2018.06.25         6303.0         NaN         NaN  \n",
       "1        2018.06.18         6302.0         NaN         NaN  \n",
       "2        2018.06.09         6301.0         NaN         NaN  \n",
       "3        2018.06.08         6300.0         NaN         NaN  \n",
       "4        2018.06.04         6299.0         NaN         NaN  \n",
       "...             ...            ...         ...         ...  \n",
       "25718           NaN            NaN         NaN         NaN  \n",
       "25719           NaN            NaN         NaN         NaN  \n",
       "25720           NaN            NaN         NaN         NaN  \n",
       "25721           NaN            NaN         NaN         NaN  \n",
       "25722           NaN            NaN         NaN         NaN  \n",
       "\n",
       "[25723 rows x 24 columns]"
      ]
     },
     "execution_count": 3,
     "metadata": {},
     "output_type": "execute_result"
    }
   ],
   "source": [
    "df"
   ]
  },
  {
   "cell_type": "code",
   "execution_count": 4,
   "id": "6ebdb107",
   "metadata": {},
   "outputs": [
    {
     "data": {
      "text/plain": [
       "Index(['Case Number', 'Date', 'Year', 'Type', 'Country', 'Area', 'Location',\n",
       "       'Activity', 'Name', 'Sex ', 'Age', 'Injury', 'Fatal (Y/N)', 'Time',\n",
       "       'Species ', 'Investigator or Source', 'pdf', 'href formula', 'href',\n",
       "       'Case Number.1', 'Case Number.2', 'original order', 'Unnamed: 22',\n",
       "       'Unnamed: 23'],\n",
       "      dtype='object')"
      ]
     },
     "execution_count": 4,
     "metadata": {},
     "output_type": "execute_result"
    }
   ],
   "source": [
    "df.columns"
   ]
  },
  {
   "cell_type": "code",
   "execution_count": 5,
   "id": "47dd9a73",
   "metadata": {},
   "outputs": [
    {
     "data": {
      "text/plain": [
       "Case Number               17021\n",
       "Date                      19421\n",
       "Year                      19423\n",
       "Type                      19425\n",
       "Country                   19471\n",
       "Area                      19876\n",
       "Location                  19961\n",
       "Activity                  19965\n",
       "Name                      19631\n",
       "Sex                       19986\n",
       "Age                       22252\n",
       "Injury                    19449\n",
       "Fatal (Y/N)               19960\n",
       "Time                      22775\n",
       "Species                   22259\n",
       "Investigator or Source    19438\n",
       "pdf                       19421\n",
       "href formula              19422\n",
       "href                      19421\n",
       "Case Number.1             19421\n",
       "Case Number.2             19421\n",
       "original order            19414\n",
       "Unnamed: 22               25722\n",
       "Unnamed: 23               25721\n",
       "dtype: int64"
      ]
     },
     "execution_count": 5,
     "metadata": {},
     "output_type": "execute_result"
    }
   ],
   "source": [
    "df.isna().sum()"
   ]
  },
  {
   "cell_type": "code",
   "execution_count": 6,
   "id": "1d6adcc3",
   "metadata": {},
   "outputs": [
    {
     "data": {
      "text/plain": [
       "M      5094\n",
       "F       637\n",
       "M         2\n",
       "N         2\n",
       "lli       1\n",
       ".         1\n",
       "Name: Sex , dtype: int64"
      ]
     },
     "execution_count": 6,
     "metadata": {},
     "output_type": "execute_result"
    }
   ],
   "source": [
    "df['Sex '].value_counts()"
   ]
  },
  {
   "cell_type": "code",
   "execution_count": 7,
   "id": "0bbfdab6",
   "metadata": {},
   "outputs": [
    {
     "data": {
      "text/plain": [
       "Surfing            971\n",
       "Swimming           869\n",
       "Fishing            431\n",
       "Spearfishing       333\n",
       "Bathing            162\n",
       "Wading             149\n",
       "Diving             127\n",
       "Standing            99\n",
       "Snorkeling          89\n",
       "Scuba diving        76\n",
       "Body boarding       61\n",
       "Body surfing        49\n",
       "Swimming            47\n",
       "Kayaking            33\n",
       "Treading water      32\n",
       "Pearl diving        32\n",
       "Fell overboard      32\n",
       "Free diving         29\n",
       "Boogie boarding     29\n",
       "Windsurfing         19\n",
       "Walking             17\n",
       "Boogie Boarding     16\n",
       "Shark fishing       15\n",
       "Floating            14\n",
       "Fishing             13\n",
       "Canoeing            13\n",
       "Surf skiing         12\n",
       "Surf fishing        12\n",
       "Surf-skiing         12\n",
       "Rowing              12\n",
       "Name: Activity, dtype: int64"
      ]
     },
     "execution_count": 7,
     "metadata": {},
     "output_type": "execute_result"
    }
   ],
   "source": [
    "df['Activity'].value_counts()[:30]"
   ]
  },
  {
   "cell_type": "code",
   "execution_count": 8,
   "id": "86683ef9",
   "metadata": {},
   "outputs": [
    {
     "data": {
      "text/plain": [
       "Florida                  1037\n",
       "New South Wales           486\n",
       "Queensland                311\n",
       "Hawaii                    298\n",
       "California                290\n",
       "KwaZulu-Natal             213\n",
       "Western Cape Province     195\n",
       "Western Australia         189\n",
       "Eastern Cape Province     160\n",
       "South Carolina            160\n",
       "South Australia           104\n",
       "North Carolina            101\n",
       "Victoria                   90\n",
       "Pernambuco                 74\n",
       "Texas                      73\n",
       "Torres Strait              70\n",
       "North Island               67\n",
       "New Jersey                 52\n",
       "Tasmania                   41\n",
       "South Island               40\n",
       "New York                   30\n",
       "Oregon                     29\n",
       "Abaco Islands              23\n",
       "Northern Territory         23\n",
       "Central Province           22\n",
       "Havana Province            19\n",
       "Virginia                   19\n",
       "South Province             17\n",
       "Gaza                       16\n",
       "Massachusetts              16\n",
       "Name: Area, dtype: int64"
      ]
     },
     "execution_count": 8,
     "metadata": {},
     "output_type": "execute_result"
    }
   ],
   "source": [
    "df['Area'].value_counts()[:30]"
   ]
  },
  {
   "cell_type": "markdown",
   "id": "5c653fa1",
   "metadata": {},
   "source": [
    "# Data Cleaning"
   ]
  },
  {
   "cell_type": "code",
   "execution_count": 9,
   "id": "4bfc8aa2",
   "metadata": {},
   "outputs": [],
   "source": [
    "df = df.drop(['Unnamed: 23', 'Unnamed: 22', 'original order', 'Case Number.2', 'Case Number.1', 'href', 'href formula', 'pdf', 'Investigator or Source', 'Case Number', 'Location',\n",
    "             'Name', 'Date', 'Injury', 'Species '], axis=1)"
   ]
  },
  {
   "cell_type": "code",
   "execution_count": 10,
   "id": "bcebabed",
   "metadata": {},
   "outputs": [],
   "source": [
    "df = df.dropna()"
   ]
  },
  {
   "cell_type": "code",
   "execution_count": 11,
   "id": "02a342f2",
   "metadata": {},
   "outputs": [
    {
     "data": {
      "text/plain": [
       "N          1782\n",
       "Y           384\n",
       " N            3\n",
       "UNKNOWN       2\n",
       "M             1\n",
       "2017          1\n",
       "Name: Fatal (Y/N), dtype: int64"
      ]
     },
     "execution_count": 11,
     "metadata": {},
     "output_type": "execute_result"
    }
   ],
   "source": [
    "df['Fatal (Y/N)'].value_counts()"
   ]
  },
  {
   "cell_type": "code",
   "execution_count": 12,
   "id": "3ac923b3",
   "metadata": {},
   "outputs": [
    {
     "data": {
      "text/plain": [
       "Index(['Year', 'Type', 'Country', 'Area', 'Activity', 'Sex ', 'Age',\n",
       "       'Fatal (Y/N)', 'Time'],\n",
       "      dtype='object')"
      ]
     },
     "execution_count": 12,
     "metadata": {},
     "output_type": "execute_result"
    }
   ],
   "source": [
    "df.columns"
   ]
  },
  {
   "cell_type": "code",
   "execution_count": 13,
   "id": "b6240a93",
   "metadata": {},
   "outputs": [
    {
     "data": {
      "text/html": [
       "<div>\n",
       "<style scoped>\n",
       "    .dataframe tbody tr th:only-of-type {\n",
       "        vertical-align: middle;\n",
       "    }\n",
       "\n",
       "    .dataframe tbody tr th {\n",
       "        vertical-align: top;\n",
       "    }\n",
       "\n",
       "    .dataframe thead th {\n",
       "        text-align: right;\n",
       "    }\n",
       "</style>\n",
       "<table border=\"1\" class=\"dataframe\">\n",
       "  <thead>\n",
       "    <tr style=\"text-align: right;\">\n",
       "      <th></th>\n",
       "      <th>Year</th>\n",
       "      <th>Type</th>\n",
       "      <th>Country</th>\n",
       "      <th>Area</th>\n",
       "      <th>Activity</th>\n",
       "      <th>Sex</th>\n",
       "      <th>Age</th>\n",
       "      <th>Fatal (Y/N)</th>\n",
       "      <th>Time</th>\n",
       "    </tr>\n",
       "  </thead>\n",
       "  <tbody>\n",
       "    <tr>\n",
       "      <th>0</th>\n",
       "      <td>2018.0</td>\n",
       "      <td>Boating</td>\n",
       "      <td>USA</td>\n",
       "      <td>California</td>\n",
       "      <td>Paddling</td>\n",
       "      <td>F</td>\n",
       "      <td>57</td>\n",
       "      <td>N</td>\n",
       "      <td>18h00</td>\n",
       "    </tr>\n",
       "    <tr>\n",
       "      <th>1</th>\n",
       "      <td>2018.0</td>\n",
       "      <td>Unprovoked</td>\n",
       "      <td>USA</td>\n",
       "      <td>Georgia</td>\n",
       "      <td>Standing</td>\n",
       "      <td>F</td>\n",
       "      <td>11</td>\n",
       "      <td>N</td>\n",
       "      <td>14h00  -15h00</td>\n",
       "    </tr>\n",
       "    <tr>\n",
       "      <th>2</th>\n",
       "      <td>2018.0</td>\n",
       "      <td>Invalid</td>\n",
       "      <td>USA</td>\n",
       "      <td>Hawaii</td>\n",
       "      <td>Surfing</td>\n",
       "      <td>M</td>\n",
       "      <td>48</td>\n",
       "      <td>N</td>\n",
       "      <td>07h45</td>\n",
       "    </tr>\n",
       "    <tr>\n",
       "      <th>6</th>\n",
       "      <td>2018.0</td>\n",
       "      <td>Unprovoked</td>\n",
       "      <td>BRAZIL</td>\n",
       "      <td>Pernambuco</td>\n",
       "      <td>Swimming</td>\n",
       "      <td>M</td>\n",
       "      <td>18</td>\n",
       "      <td>Y</td>\n",
       "      <td>Late afternoon</td>\n",
       "    </tr>\n",
       "    <tr>\n",
       "      <th>8</th>\n",
       "      <td>2018.0</td>\n",
       "      <td>Unprovoked</td>\n",
       "      <td>USA</td>\n",
       "      <td>Florida</td>\n",
       "      <td>Walking</td>\n",
       "      <td>M</td>\n",
       "      <td>15</td>\n",
       "      <td>N</td>\n",
       "      <td>17h00</td>\n",
       "    </tr>\n",
       "    <tr>\n",
       "      <th>...</th>\n",
       "      <td>...</td>\n",
       "      <td>...</td>\n",
       "      <td>...</td>\n",
       "      <td>...</td>\n",
       "      <td>...</td>\n",
       "      <td>...</td>\n",
       "      <td>...</td>\n",
       "      <td>...</td>\n",
       "      <td>...</td>\n",
       "    </tr>\n",
       "    <tr>\n",
       "      <th>6200</th>\n",
       "      <td>0.0</td>\n",
       "      <td>Unprovoked</td>\n",
       "      <td>USA</td>\n",
       "      <td>Florida</td>\n",
       "      <td>Shark tagging</td>\n",
       "      <td>F</td>\n",
       "      <td>21</td>\n",
       "      <td>N</td>\n",
       "      <td>18h00</td>\n",
       "    </tr>\n",
       "    <tr>\n",
       "      <th>6241</th>\n",
       "      <td>0.0</td>\n",
       "      <td>Unprovoked</td>\n",
       "      <td>IRAQ</td>\n",
       "      <td>Basrah</td>\n",
       "      <td>Fishing from a small boat &amp; put his hand in th...</td>\n",
       "      <td>M</td>\n",
       "      <td>25</td>\n",
       "      <td>N</td>\n",
       "      <td>Afternoon</td>\n",
       "    </tr>\n",
       "    <tr>\n",
       "      <th>6242</th>\n",
       "      <td>0.0</td>\n",
       "      <td>Unprovoked</td>\n",
       "      <td>IRAQ</td>\n",
       "      <td>Basrah</td>\n",
       "      <td>Swimming naked near a date palm where many dat...</td>\n",
       "      <td>M</td>\n",
       "      <td>6</td>\n",
       "      <td>N</td>\n",
       "      <td>Afternoon</td>\n",
       "    </tr>\n",
       "    <tr>\n",
       "      <th>6243</th>\n",
       "      <td>0.0</td>\n",
       "      <td>Unprovoked</td>\n",
       "      <td>IRAQ</td>\n",
       "      <td>Basrah</td>\n",
       "      <td>Swimming in section of river used for washing ...</td>\n",
       "      <td>M</td>\n",
       "      <td>16</td>\n",
       "      <td>N</td>\n",
       "      <td>Afternoon</td>\n",
       "    </tr>\n",
       "    <tr>\n",
       "      <th>6265</th>\n",
       "      <td>0.0</td>\n",
       "      <td>Unprovoked</td>\n",
       "      <td>IRAQ</td>\n",
       "      <td>Basrah</td>\n",
       "      <td>Swimming</td>\n",
       "      <td>M</td>\n",
       "      <td>13 or 14</td>\n",
       "      <td>Y</td>\n",
       "      <td>Afternoon</td>\n",
       "    </tr>\n",
       "  </tbody>\n",
       "</table>\n",
       "<p>2173 rows × 9 columns</p>\n",
       "</div>"
      ],
      "text/plain": [
       "        Year        Type Country        Area  \\\n",
       "0     2018.0     Boating     USA  California   \n",
       "1     2018.0  Unprovoked     USA     Georgia   \n",
       "2     2018.0     Invalid     USA      Hawaii   \n",
       "6     2018.0  Unprovoked  BRAZIL  Pernambuco   \n",
       "8     2018.0  Unprovoked     USA     Florida   \n",
       "...      ...         ...     ...         ...   \n",
       "6200     0.0  Unprovoked     USA     Florida   \n",
       "6241     0.0  Unprovoked    IRAQ      Basrah   \n",
       "6242     0.0  Unprovoked    IRAQ      Basrah   \n",
       "6243     0.0  Unprovoked    IRAQ      Basrah   \n",
       "6265     0.0  Unprovoked    IRAQ      Basrah   \n",
       "\n",
       "                                               Activity Sex        Age  \\\n",
       "0                                              Paddling    F        57   \n",
       "1                                              Standing    F        11   \n",
       "2                                               Surfing    M        48   \n",
       "6                                              Swimming    M        18   \n",
       "8                                               Walking    M        15   \n",
       "...                                                 ...  ...       ...   \n",
       "6200                                      Shark tagging    F        21   \n",
       "6241  Fishing from a small boat & put his hand in th...    M        25   \n",
       "6242  Swimming naked near a date palm where many dat...    M         6   \n",
       "6243  Swimming in section of river used for washing ...    M        16   \n",
       "6265                                           Swimming    M  13 or 14   \n",
       "\n",
       "     Fatal (Y/N)            Time  \n",
       "0              N           18h00  \n",
       "1              N   14h00  -15h00  \n",
       "2              N           07h45  \n",
       "6              Y  Late afternoon  \n",
       "8              N           17h00  \n",
       "...          ...             ...  \n",
       "6200           N           18h00  \n",
       "6241           N       Afternoon  \n",
       "6242           N       Afternoon  \n",
       "6243           N       Afternoon  \n",
       "6265           Y       Afternoon  \n",
       "\n",
       "[2173 rows x 9 columns]"
      ]
     },
     "execution_count": 13,
     "metadata": {},
     "output_type": "execute_result"
    }
   ],
   "source": [
    "df"
   ]
  },
  {
   "cell_type": "code",
   "execution_count": 14,
   "id": "c87f0b3f",
   "metadata": {},
   "outputs": [
    {
     "data": {
      "text/plain": [
       "<AxesSubplot:>"
      ]
     },
     "execution_count": 14,
     "metadata": {},
     "output_type": "execute_result"
    },
    {
     "data": {
      "image/png": "[encoded data removed]",
      "text/plain": [
       "<Figure size 432x288 with 2 Axes>"
      ]
     },
     "metadata": {
      "needs_background": "light"
     },
     "output_type": "display_data"
    }
   ],
   "source": [
    "sns.heatmap(df.isnull(), yticklabels=False)"
   ]
  },
  {
   "cell_type": "code",
   "execution_count": 15,
   "id": "eff96917",
   "metadata": {},
   "outputs": [],
   "source": [
    "df['Sex '].replace('M ', 'M', inplace=True)"
   ]
  },
  {
   "cell_type": "code",
   "execution_count": 16,
   "id": "4c2c604d",
   "metadata": {},
   "outputs": [
    {
     "data": {
      "text/html": [
       "<div>\n",
       "<style scoped>\n",
       "    .dataframe tbody tr th:only-of-type {\n",
       "        vertical-align: middle;\n",
       "    }\n",
       "\n",
       "    .dataframe tbody tr th {\n",
       "        vertical-align: top;\n",
       "    }\n",
       "\n",
       "    .dataframe thead th {\n",
       "        text-align: right;\n",
       "    }\n",
       "</style>\n",
       "<table border=\"1\" class=\"dataframe\">\n",
       "  <thead>\n",
       "    <tr style=\"text-align: right;\">\n",
       "      <th></th>\n",
       "      <th>Year</th>\n",
       "      <th>Type</th>\n",
       "      <th>Country</th>\n",
       "      <th>Area</th>\n",
       "      <th>Activity</th>\n",
       "      <th>Sex</th>\n",
       "      <th>Age</th>\n",
       "      <th>Fatal (Y/N)</th>\n",
       "      <th>Time</th>\n",
       "    </tr>\n",
       "  </thead>\n",
       "  <tbody>\n",
       "    <tr>\n",
       "      <th>1624</th>\n",
       "      <td>2004.0</td>\n",
       "      <td>Unprovoked</td>\n",
       "      <td>USA</td>\n",
       "      <td>California</td>\n",
       "      <td>Surfing</td>\n",
       "      <td>lli</td>\n",
       "      <td>38</td>\n",
       "      <td>N</td>\n",
       "      <td>13h30</td>\n",
       "    </tr>\n",
       "  </tbody>\n",
       "</table>\n",
       "</div>"
      ],
      "text/plain": [
       "        Year        Type Country        Area Activity Sex  Age Fatal (Y/N)  \\\n",
       "1624  2004.0  Unprovoked     USA  California  Surfing  lli  38           N   \n",
       "\n",
       "       Time  \n",
       "1624  13h30  "
      ]
     },
     "execution_count": 16,
     "metadata": {},
     "output_type": "execute_result"
    }
   ],
   "source": [
    "df[df['Sex '] == 'lli']"
   ]
  },
  {
   "cell_type": "code",
   "execution_count": 17,
   "id": "dc2e5fb9",
   "metadata": {},
   "outputs": [],
   "source": [
    "df.drop(1624, inplace=True)"
   ]
  },
  {
   "cell_type": "markdown",
   "id": "e7cdf626",
   "metadata": {},
   "source": [
    "## Fixing the time"
   ]
  },
  {
   "cell_type": "code",
   "execution_count": 18,
   "id": "edf113d6",
   "metadata": {},
   "outputs": [
    {
     "data": {
      "text/plain": [
       "0                18h00\n",
       "1        14h00  -15h00\n",
       "2                07h45\n",
       "6       Late afternoon\n",
       "8                17h00\n",
       "             ...      \n",
       "6200             18h00\n",
       "6241         Afternoon\n",
       "6242         Afternoon\n",
       "6243         Afternoon\n",
       "6265         Afternoon\n",
       "Name: Time, Length: 2172, dtype: object"
      ]
     },
     "execution_count": 18,
     "metadata": {},
     "output_type": "execute_result"
    }
   ],
   "source": [
    "df['Time']"
   ]
  },
  {
   "cell_type": "code",
   "execution_count": 19,
   "id": "43201ca9",
   "metadata": {},
   "outputs": [],
   "source": [
    "def fix_time(time):\n",
    "    hrs = time[:2]\n",
    "    if(hrs.isdigit()):\n",
    "        hrs = int(hrs)\n",
    "        if(hrs < 12 and hrs > 6):\n",
    "            T = 'Morning'\n",
    "        elif(hrs >= 12 and hrs < 17):\n",
    "            T = 'Afternoon'\n",
    "        elif(hrs >= 17 and hrs < 22):\n",
    "            T = 'Evening'\n",
    "        else:\n",
    "            T = 'Night'            \n",
    "        return T\n",
    "    else:\n",
    "        return time"
   ]
  },
  {
   "cell_type": "code",
   "execution_count": 20,
   "id": "de556c11",
   "metadata": {},
   "outputs": [],
   "source": [
    "df['Time'] = df['Time'].apply(fix_time)"
   ]
  },
  {
   "cell_type": "code",
   "execution_count": 21,
   "id": "a4d2dc9c",
   "metadata": {},
   "outputs": [
    {
     "data": {
      "text/plain": [
       "Afternoon                                                                1022\n",
       "Morning                                                                   620\n",
       "Evening                                                                   336\n",
       "Night                                                                      75\n",
       "Late afternoon                                                             27\n",
       "Dusk                                                                        9\n",
       "A.M.                                                                        8\n",
       "Early afternoon                                                             7\n",
       "P.M.                                                                        6\n",
       "Midday                                                                      5\n",
       "Early morning                                                               4\n",
       "--                                                                          3\n",
       "Sunset                                                                      3\n",
       "After noon                                                                  2\n",
       "Just before noon                                                            2\n",
       "                                                                            2\n",
       "X                                                                           1\n",
       "Nightfall                                                                   1\n",
       "Just before dawn                                                            1\n",
       "Prior to 10h37                                                              1\n",
       "Daybreak                                                                    1\n",
       "\"Early evening\"                                                             1\n",
       "AM                                                                          1\n",
       "Between 06h00 & 07h20                                                       1\n",
       "Mid-morning                                                                 1\n",
       "Daytime                                                                     1\n",
       " 14h00                                                                      1\n",
       "After midnight                                                              1\n",
       "Midnight                                                                    1\n",
       ">06h45                                                                      1\n",
       "\"After dark\"                                                                1\n",
       "After 04h00                                                                 1\n",
       "Late afternon                                                               1\n",
       "After dusk                                                                  1\n",
       "FATAL  (Wire netting installed at local beaches after this incident.)       1\n",
       "night                                                                       1\n",
       "Late morning                                                                1\n",
       "\"Night\"                                                                     1\n",
       "Mid morning                                                                 1\n",
       "Shortly before 12h00                                                        1\n",
       "9h00                                                                        1\n",
       "Morning                                                                     1\n",
       "Sometime between 06h00 & 08hoo                                              1\n",
       "Dawn                                                                        1\n",
       "Before 07h00                                                                1\n",
       "\"Just before 11h00\"                                                         1\n",
       "\"Evening\"                                                                   1\n",
       "Just before sundown                                                         1\n",
       ">08h00                                                                      1\n",
       "Just after 12h00                                                            1\n",
       "Early Morning                                                               1\n",
       "Shortly after midnight                                                      1\n",
       "                                                                            1\n",
       "Shortly before 13h00                                                        1\n",
       "8:04 pm                                                                     1\n",
       "2 hours after Opperman                                                      1\n",
       "Before 10h30                                                                1\n",
       "Name: Time, dtype: int64"
      ]
     },
     "execution_count": 21,
     "metadata": {},
     "output_type": "execute_result"
    }
   ],
   "source": [
    "df['Time'].value_counts()"
   ]
  },
  {
   "cell_type": "code",
   "execution_count": 22,
   "id": "569691d1",
   "metadata": {},
   "outputs": [],
   "source": [
    "df['Time'].replace({'Late afternoon': 'Afternoon', 'Dusk':'Evening', 'A.M.':'Morning', 'P.M.':'Night', 'Early morning':'Morning'}, inplace=True)"
   ]
  },
  {
   "cell_type": "code",
   "execution_count": 23,
   "id": "17031ad2",
   "metadata": {},
   "outputs": [],
   "source": [
    "df['Time'].replace({'Sunset':'Evening', 'After noon':'Afternoon', 'Just before noon':'Morning', 'Nightfall':'Night', 'Just before dawn':'Evening', 'AM':'Morning'}, inplace=True)"
   ]
  },
  {
   "cell_type": "code",
   "execution_count": 24,
   "id": "f9a5fcaa",
   "metadata": {},
   "outputs": [],
   "source": [
    "df['Time'].replace({'Prior to 10h37':'Morning','Daybreak':'Afternoon','\"Early evening\"':'Evening', 'AM':'Morning' , 'Between 06h00 & 07h20':'Morning', 'Mid-morning':'Morning', 'Daytime':'Morning'}, inplace=True)"
   ]
  },
  {
   "cell_type": "code",
   "execution_count": 25,
   "id": "6e9b8a41",
   "metadata": {},
   "outputs": [],
   "source": [
    "df['Time'].replace({' 14h00':'Afternoon', 'After midnight':'Night', 'Midnight':'Night','>06h45':'Morning', '\"After dark\"':'Night', 'After 04h00':'Morning', 'Late afternon':'Afternoon'}, inplace=True)"
   ]
  },
  {
   "cell_type": "code",
   "execution_count": 26,
   "id": "6b8848d8",
   "metadata": {},
   "outputs": [],
   "source": [
    "df['Time'].replace({'After dusk':'Night', 'Mid morning':'Morning', 'night':'Night', 'Late morning':'Morning', '\"Night\"':'Night'}, inplace=True)"
   ]
  },
  {
   "cell_type": "code",
   "execution_count": 27,
   "id": "542b202a",
   "metadata": {},
   "outputs": [],
   "source": [
    "df['Time'].replace({'Before 10h30':'Morning','8:04 pm':'Evening','Shortly before 13h00':'Afternoon','Shortly after midnight':'Night','Early Morning':'Morning','Just after 12h00':'Afternoon','>08h00':'Morning','Just before sundown':'Afternoon','\"Evening\"':'Evening','\"Just before 11h00\"':'Morning','Before 07h00':'Morning','Dawn':'Morning','Sometime between 06h00 & 08hoo':'Morning'}, inplace=True)"
   ]
  },
  {
   "cell_type": "code",
   "execution_count": 28,
   "id": "33f82be8",
   "metadata": {},
   "outputs": [],
   "source": [
    "df['Time'].replace({'9h00':'Morning','Shortly before 12h00':'Morning'}, inplace=True)"
   ]
  },
  {
   "cell_type": "code",
   "execution_count": 29,
   "id": "0d1c328a",
   "metadata": {},
   "outputs": [],
   "source": [
    "df['Time'].replace({'Early afternoon':'Afternoon', 'Midday':'Afternoon', 'Morning  ':'Morning'}, inplace=True)"
   ]
  },
  {
   "cell_type": "code",
   "execution_count": 30,
   "id": "1ac62de9",
   "metadata": {},
   "outputs": [],
   "source": [
    "df.drop(df[(df['Time'] != 'Afternoon') & (df['Time'] != 'Morning') & (df['Time'] != 'Evening') & (df['Time'] != 'Night')].index, inplace=True)"
   ]
  },
  {
   "cell_type": "code",
   "execution_count": 31,
   "id": "24318a8e",
   "metadata": {},
   "outputs": [
    {
     "data": {
      "text/plain": [
       "Afternoon    1069\n",
       "Morning       652\n",
       "Evening       352\n",
       "Night          89\n",
       "Name: Time, dtype: int64"
      ]
     },
     "execution_count": 31,
     "metadata": {},
     "output_type": "execute_result"
    }
   ],
   "source": [
    "df['Time'].value_counts()"
   ]
  },
  {
   "cell_type": "markdown",
   "id": "981be835",
   "metadata": {},
   "source": [
    "## Reducing the number of countries and activities ( as we need only few)"
   ]
  },
  {
   "cell_type": "code",
   "execution_count": 32,
   "id": "d256bd6f",
   "metadata": {},
   "outputs": [
    {
     "data": {
      "text/plain": [
       "Unprovoked      1998\n",
       "Provoked         123\n",
       "Boating           19\n",
       "Sea Disaster      15\n",
       "Invalid            7\n",
       "Name: Type, dtype: int64"
      ]
     },
     "execution_count": 32,
     "metadata": {},
     "output_type": "execute_result"
    }
   ],
   "source": [
    "df['Type'].value_counts()"
   ]
  },
  {
   "cell_type": "code",
   "execution_count": 33,
   "id": "907d9fec",
   "metadata": {},
   "outputs": [
    {
     "data": {
      "text/plain": [
       "USA                 1075\n",
       "AUSTRALIA            434\n",
       "SOUTH AFRICA         283\n",
       "BAHAMAS               35\n",
       "REUNION               29\n",
       "BRAZIL                28\n",
       "NEW ZEALAND           26\n",
       "MEXICO                22\n",
       "PAPUA NEW GUINEA      16\n",
       "MOZAMBIQUE            16\n",
       "NEW CALEDONIA         15\n",
       "FIJI                  14\n",
       "EGYPT                 10\n",
       "IRAQ                   9\n",
       "FRENCH POLYNESIA       9\n",
       "ITALY                  7\n",
       "JAPAN                  7\n",
       "PANAMA                 5\n",
       "TONGA                  5\n",
       "CUBA                   5\n",
       "INDONESIA              4\n",
       "VIETNAM                4\n",
       "HONG KONG              4\n",
       "TAIWAN                 4\n",
       "PHILIPPINES            4\n",
       "SPAIN                  4\n",
       "CROATIA                4\n",
       "GRENADA                3\n",
       "JAMAICA                3\n",
       "VANUATU                3\n",
       "Name: Country, dtype: int64"
      ]
     },
     "execution_count": 33,
     "metadata": {},
     "output_type": "execute_result"
    }
   ],
   "source": [
    "df['Country'].value_counts()[:30]"
   ]
  },
  {
   "cell_type": "code",
   "execution_count": 34,
   "id": "74fa7a10",
   "metadata": {},
   "outputs": [
    {
     "data": {
      "text/plain": [
       "Surfing                           608\n",
       "Swimming                          349\n",
       "Spearfishing                      124\n",
       "Wading                             91\n",
       "Standing                           63\n",
       "Fishing                            55\n",
       "Snorkeling                         52\n",
       "Body boarding                      47\n",
       "Body surfing                       37\n",
       "Treading water                     27\n",
       "Scuba diving                       26\n",
       "Swimming                           24\n",
       "Bathing                            23\n",
       "Diving                             22\n",
       "Boogie boarding                    20\n",
       "Kayaking                           14\n",
       "Walking                            13\n",
       "Boogie Boarding                    12\n",
       "Windsurfing                        11\n",
       "Free diving                        11\n",
       "Floating                            8\n",
       "Free diving for abalone             7\n",
       "Surf skiing                         6\n",
       "Paddle boarding                     6\n",
       "Surf-skiing                         5\n",
       "Playing                             5\n",
       "Surfing (sitting on his board)      5\n",
       "Floating on his back                4\n",
       "Sitting on surfboard                4\n",
       "Lifesaving drill                    4\n",
       "Name: Activity, dtype: int64"
      ]
     },
     "execution_count": 34,
     "metadata": {},
     "output_type": "execute_result"
    }
   ],
   "source": [
    "df['Activity'].value_counts()[:30]"
   ]
  },
  {
   "cell_type": "code",
   "execution_count": 35,
   "id": "b49ad712",
   "metadata": {},
   "outputs": [],
   "source": [
    "activity = ['Surfing',\n",
    "'Swimming',\n",
    "'Spearfishing',\n",
    "'Wading',\n",
    "'Standing',\n",
    "'Fishing',\n",
    "'Snorkeling',\n",
    "'Body boarding',\n",
    "'Body surfing',\n",
    "'Treading water',\n",
    "'Scuba diving',\n",
    "'Swimming',\n",
    "'Bathing',\n",
    "'Diving',\n",
    "'Boogie boarding',\n",
    "'Kayaking',\n",
    "'Walking',\n",
    "'Boogie Boarding',\n",
    "'Windsurfing',\n",
    "'Free diving']"
   ]
  },
  {
   "cell_type": "code",
   "execution_count": 36,
   "id": "cee9ee97",
   "metadata": {},
   "outputs": [],
   "source": [
    "Country = ['USA',\n",
    "'AUSTRALIA',\n",
    "'SOUTH AFRICA',\n",
    "'BAHAMAS',\n",
    "'REUNION',\n",
    "'BRAZIL',\n",
    "'NEW ZEALAND',\n",
    "'MEXICO',\n",
    "'PAPUA NEW GUINEA',\n",
    "'MOZAMBIQUE',\n",
    "'NEW CALEDONIA',\n",
    "'FIJI',\n",
    "'EGYPT',]"
   ]
  },
  {
   "cell_type": "code",
   "execution_count": 37,
   "id": "408187cd",
   "metadata": {},
   "outputs": [],
   "source": [
    "df.drop(df[~df['Country'].isin(Country)].index, inplace=True)"
   ]
  },
  {
   "cell_type": "code",
   "execution_count": 38,
   "id": "2c466e9e",
   "metadata": {},
   "outputs": [],
   "source": [
    "df.drop(df[~df['Activity'].isin(activity)].index, inplace=True)"
   ]
  },
  {
   "cell_type": "code",
   "execution_count": 39,
   "id": "8c098cb5",
   "metadata": {},
   "outputs": [
    {
     "data": {
      "text/html": [
       "<div>\n",
       "<style scoped>\n",
       "    .dataframe tbody tr th:only-of-type {\n",
       "        vertical-align: middle;\n",
       "    }\n",
       "\n",
       "    .dataframe tbody tr th {\n",
       "        vertical-align: top;\n",
       "    }\n",
       "\n",
       "    .dataframe thead th {\n",
       "        text-align: right;\n",
       "    }\n",
       "</style>\n",
       "<table border=\"1\" class=\"dataframe\">\n",
       "  <thead>\n",
       "    <tr style=\"text-align: right;\">\n",
       "      <th></th>\n",
       "      <th>Year</th>\n",
       "      <th>Type</th>\n",
       "      <th>Country</th>\n",
       "      <th>Area</th>\n",
       "      <th>Activity</th>\n",
       "      <th>Sex</th>\n",
       "      <th>Age</th>\n",
       "      <th>Fatal (Y/N)</th>\n",
       "      <th>Time</th>\n",
       "    </tr>\n",
       "  </thead>\n",
       "  <tbody>\n",
       "    <tr>\n",
       "      <th>1</th>\n",
       "      <td>2018.0</td>\n",
       "      <td>Unprovoked</td>\n",
       "      <td>USA</td>\n",
       "      <td>Georgia</td>\n",
       "      <td>Standing</td>\n",
       "      <td>F</td>\n",
       "      <td>11</td>\n",
       "      <td>N</td>\n",
       "      <td>Afternoon</td>\n",
       "    </tr>\n",
       "    <tr>\n",
       "      <th>2</th>\n",
       "      <td>2018.0</td>\n",
       "      <td>Invalid</td>\n",
       "      <td>USA</td>\n",
       "      <td>Hawaii</td>\n",
       "      <td>Surfing</td>\n",
       "      <td>M</td>\n",
       "      <td>48</td>\n",
       "      <td>N</td>\n",
       "      <td>Morning</td>\n",
       "    </tr>\n",
       "    <tr>\n",
       "      <th>6</th>\n",
       "      <td>2018.0</td>\n",
       "      <td>Unprovoked</td>\n",
       "      <td>BRAZIL</td>\n",
       "      <td>Pernambuco</td>\n",
       "      <td>Swimming</td>\n",
       "      <td>M</td>\n",
       "      <td>18</td>\n",
       "      <td>Y</td>\n",
       "      <td>Afternoon</td>\n",
       "    </tr>\n",
       "    <tr>\n",
       "      <th>8</th>\n",
       "      <td>2018.0</td>\n",
       "      <td>Unprovoked</td>\n",
       "      <td>USA</td>\n",
       "      <td>Florida</td>\n",
       "      <td>Walking</td>\n",
       "      <td>M</td>\n",
       "      <td>15</td>\n",
       "      <td>N</td>\n",
       "      <td>Evening</td>\n",
       "    </tr>\n",
       "    <tr>\n",
       "      <th>9</th>\n",
       "      <td>2018.0</td>\n",
       "      <td>Unprovoked</td>\n",
       "      <td>USA</td>\n",
       "      <td>Florida</td>\n",
       "      <td>Standing</td>\n",
       "      <td>M</td>\n",
       "      <td>12</td>\n",
       "      <td>N</td>\n",
       "      <td>Afternoon</td>\n",
       "    </tr>\n",
       "    <tr>\n",
       "      <th>...</th>\n",
       "      <td>...</td>\n",
       "      <td>...</td>\n",
       "      <td>...</td>\n",
       "      <td>...</td>\n",
       "      <td>...</td>\n",
       "      <td>...</td>\n",
       "      <td>...</td>\n",
       "      <td>...</td>\n",
       "      <td>...</td>\n",
       "    </tr>\n",
       "    <tr>\n",
       "      <th>5814</th>\n",
       "      <td>1880.0</td>\n",
       "      <td>Unprovoked</td>\n",
       "      <td>AUSTRALIA</td>\n",
       "      <td>Queensland</td>\n",
       "      <td>Swimming</td>\n",
       "      <td>M</td>\n",
       "      <td>12</td>\n",
       "      <td>Y</td>\n",
       "      <td>Afternoon</td>\n",
       "    </tr>\n",
       "    <tr>\n",
       "      <th>5844</th>\n",
       "      <td>1878.0</td>\n",
       "      <td>Unprovoked</td>\n",
       "      <td>USA</td>\n",
       "      <td>New York</td>\n",
       "      <td>Swimming</td>\n",
       "      <td>M</td>\n",
       "      <td>14</td>\n",
       "      <td>Y</td>\n",
       "      <td>Afternoon</td>\n",
       "    </tr>\n",
       "    <tr>\n",
       "      <th>5958</th>\n",
       "      <td>1863.0</td>\n",
       "      <td>Unprovoked</td>\n",
       "      <td>AUSTRALIA</td>\n",
       "      <td>New South Wales</td>\n",
       "      <td>Bathing</td>\n",
       "      <td>M</td>\n",
       "      <td>17</td>\n",
       "      <td>Y</td>\n",
       "      <td>Evening</td>\n",
       "    </tr>\n",
       "    <tr>\n",
       "      <th>5963</th>\n",
       "      <td>1862.0</td>\n",
       "      <td>Unprovoked</td>\n",
       "      <td>NEW ZEALAND</td>\n",
       "      <td>North Island</td>\n",
       "      <td>Swimming</td>\n",
       "      <td>M</td>\n",
       "      <td>28</td>\n",
       "      <td>N</td>\n",
       "      <td>Night</td>\n",
       "    </tr>\n",
       "    <tr>\n",
       "      <th>5991</th>\n",
       "      <td>1858.0</td>\n",
       "      <td>Unprovoked</td>\n",
       "      <td>AUSTRALIA</td>\n",
       "      <td>Victoria</td>\n",
       "      <td>Bathing</td>\n",
       "      <td>M</td>\n",
       "      <td>22</td>\n",
       "      <td>Y</td>\n",
       "      <td>Afternoon</td>\n",
       "    </tr>\n",
       "  </tbody>\n",
       "</table>\n",
       "<p>1498 rows × 9 columns</p>\n",
       "</div>"
      ],
      "text/plain": [
       "        Year        Type      Country             Area  Activity Sex  Age  \\\n",
       "1     2018.0  Unprovoked          USA          Georgia  Standing    F  11   \n",
       "2     2018.0     Invalid          USA           Hawaii   Surfing    M  48   \n",
       "6     2018.0  Unprovoked       BRAZIL       Pernambuco  Swimming    M  18   \n",
       "8     2018.0  Unprovoked          USA          Florida   Walking    M  15   \n",
       "9     2018.0  Unprovoked          USA          Florida  Standing    M  12   \n",
       "...      ...         ...          ...              ...       ...  ...  ..   \n",
       "5814  1880.0  Unprovoked    AUSTRALIA       Queensland  Swimming    M  12   \n",
       "5844  1878.0  Unprovoked          USA         New York  Swimming    M  14   \n",
       "5958  1863.0  Unprovoked    AUSTRALIA  New South Wales   Bathing    M  17   \n",
       "5963  1862.0  Unprovoked  NEW ZEALAND     North Island  Swimming    M  28   \n",
       "5991  1858.0  Unprovoked    AUSTRALIA         Victoria   Bathing    M  22   \n",
       "\n",
       "     Fatal (Y/N)       Time  \n",
       "1              N  Afternoon  \n",
       "2              N    Morning  \n",
       "6              Y  Afternoon  \n",
       "8              N    Evening  \n",
       "9              N  Afternoon  \n",
       "...          ...        ...  \n",
       "5814           Y  Afternoon  \n",
       "5844           Y  Afternoon  \n",
       "5958           Y    Evening  \n",
       "5963           N      Night  \n",
       "5991           Y  Afternoon  \n",
       "\n",
       "[1498 rows x 9 columns]"
      ]
     },
     "execution_count": 39,
     "metadata": {},
     "output_type": "execute_result"
    }
   ],
   "source": [
    "df"
   ]
  },
  {
   "cell_type": "code",
   "execution_count": 40,
   "id": "adf5c098",
   "metadata": {},
   "outputs": [],
   "source": [
    "df.drop(df[~df['Age'].str.isnumeric()].index, inplace=True)"
   ]
  },
  {
   "cell_type": "code",
   "execution_count": 41,
   "id": "469e0129",
   "metadata": {},
   "outputs": [],
   "source": [
    "df['Fatal (Y/N)'].replace({' N':'N'}, inplace=True)"
   ]
  },
  {
   "cell_type": "code",
   "execution_count": 42,
   "id": "4dfaa88f",
   "metadata": {},
   "outputs": [],
   "source": [
    "df.drop(df[df['Fatal (Y/N)'] == 'UNKNOWN'].index, inplace=True)"
   ]
  },
  {
   "cell_type": "code",
   "execution_count": 43,
   "id": "0b0cbe87",
   "metadata": {},
   "outputs": [],
   "source": [
    "df.drop('Type', axis=1, inplace=True)"
   ]
  },
  {
   "cell_type": "code",
   "execution_count": 44,
   "id": "fb0b9988",
   "metadata": {},
   "outputs": [],
   "source": [
    "df.drop('Year', axis=1, inplace=True)"
   ]
  },
  {
   "cell_type": "code",
   "execution_count": 45,
   "id": "912eec7a",
   "metadata": {},
   "outputs": [],
   "source": [
    "df = df.rename({'Sex ': 'Sex'}, axis=1)"
   ]
  },
  {
   "cell_type": "code",
   "execution_count": 46,
   "id": "be7b7ff9",
   "metadata": {},
   "outputs": [
    {
     "data": {
      "text/plain": [
       "1       F\n",
       "2       M\n",
       "6       M\n",
       "8       M\n",
       "9       M\n",
       "       ..\n",
       "5814    M\n",
       "5844    M\n",
       "5958    M\n",
       "5963    M\n",
       "5991    M\n",
       "Name: Sex, Length: 1470, dtype: object"
      ]
     },
     "execution_count": 46,
     "metadata": {},
     "output_type": "execute_result"
    }
   ],
   "source": [
    "df['Sex']"
   ]
  },
  {
   "cell_type": "markdown",
   "id": "e46b7214",
   "metadata": {},
   "source": [
    "# Data Preparation"
   ]
  },
  {
   "cell_type": "code",
   "execution_count": 47,
   "id": "dbe43b34",
   "metadata": {},
   "outputs": [
    {
     "data": {
      "text/html": [
       "<div>\n",
       "<style scoped>\n",
       "    .dataframe tbody tr th:only-of-type {\n",
       "        vertical-align: middle;\n",
       "    }\n",
       "\n",
       "    .dataframe tbody tr th {\n",
       "        vertical-align: top;\n",
       "    }\n",
       "\n",
       "    .dataframe thead th {\n",
       "        text-align: right;\n",
       "    }\n",
       "</style>\n",
       "<table border=\"1\" class=\"dataframe\">\n",
       "  <thead>\n",
       "    <tr style=\"text-align: right;\">\n",
       "      <th></th>\n",
       "      <th>Country</th>\n",
       "      <th>Area</th>\n",
       "      <th>Activity</th>\n",
       "      <th>Sex</th>\n",
       "      <th>Age</th>\n",
       "      <th>Fatal (Y/N)</th>\n",
       "      <th>Time</th>\n",
       "    </tr>\n",
       "  </thead>\n",
       "  <tbody>\n",
       "    <tr>\n",
       "      <th>1</th>\n",
       "      <td>USA</td>\n",
       "      <td>Georgia</td>\n",
       "      <td>Standing</td>\n",
       "      <td>F</td>\n",
       "      <td>11</td>\n",
       "      <td>N</td>\n",
       "      <td>Afternoon</td>\n",
       "    </tr>\n",
       "    <tr>\n",
       "      <th>2</th>\n",
       "      <td>USA</td>\n",
       "      <td>Hawaii</td>\n",
       "      <td>Surfing</td>\n",
       "      <td>M</td>\n",
       "      <td>48</td>\n",
       "      <td>N</td>\n",
       "      <td>Morning</td>\n",
       "    </tr>\n",
       "    <tr>\n",
       "      <th>6</th>\n",
       "      <td>BRAZIL</td>\n",
       "      <td>Pernambuco</td>\n",
       "      <td>Swimming</td>\n",
       "      <td>M</td>\n",
       "      <td>18</td>\n",
       "      <td>Y</td>\n",
       "      <td>Afternoon</td>\n",
       "    </tr>\n",
       "    <tr>\n",
       "      <th>8</th>\n",
       "      <td>USA</td>\n",
       "      <td>Florida</td>\n",
       "      <td>Walking</td>\n",
       "      <td>M</td>\n",
       "      <td>15</td>\n",
       "      <td>N</td>\n",
       "      <td>Evening</td>\n",
       "    </tr>\n",
       "    <tr>\n",
       "      <th>9</th>\n",
       "      <td>USA</td>\n",
       "      <td>Florida</td>\n",
       "      <td>Standing</td>\n",
       "      <td>M</td>\n",
       "      <td>12</td>\n",
       "      <td>N</td>\n",
       "      <td>Afternoon</td>\n",
       "    </tr>\n",
       "    <tr>\n",
       "      <th>...</th>\n",
       "      <td>...</td>\n",
       "      <td>...</td>\n",
       "      <td>...</td>\n",
       "      <td>...</td>\n",
       "      <td>...</td>\n",
       "      <td>...</td>\n",
       "      <td>...</td>\n",
       "    </tr>\n",
       "    <tr>\n",
       "      <th>5814</th>\n",
       "      <td>AUSTRALIA</td>\n",
       "      <td>Queensland</td>\n",
       "      <td>Swimming</td>\n",
       "      <td>M</td>\n",
       "      <td>12</td>\n",
       "      <td>Y</td>\n",
       "      <td>Afternoon</td>\n",
       "    </tr>\n",
       "    <tr>\n",
       "      <th>5844</th>\n",
       "      <td>USA</td>\n",
       "      <td>New York</td>\n",
       "      <td>Swimming</td>\n",
       "      <td>M</td>\n",
       "      <td>14</td>\n",
       "      <td>Y</td>\n",
       "      <td>Afternoon</td>\n",
       "    </tr>\n",
       "    <tr>\n",
       "      <th>5958</th>\n",
       "      <td>AUSTRALIA</td>\n",
       "      <td>New South Wales</td>\n",
       "      <td>Bathing</td>\n",
       "      <td>M</td>\n",
       "      <td>17</td>\n",
       "      <td>Y</td>\n",
       "      <td>Evening</td>\n",
       "    </tr>\n",
       "    <tr>\n",
       "      <th>5963</th>\n",
       "      <td>NEW ZEALAND</td>\n",
       "      <td>North Island</td>\n",
       "      <td>Swimming</td>\n",
       "      <td>M</td>\n",
       "      <td>28</td>\n",
       "      <td>N</td>\n",
       "      <td>Night</td>\n",
       "    </tr>\n",
       "    <tr>\n",
       "      <th>5991</th>\n",
       "      <td>AUSTRALIA</td>\n",
       "      <td>Victoria</td>\n",
       "      <td>Bathing</td>\n",
       "      <td>M</td>\n",
       "      <td>22</td>\n",
       "      <td>Y</td>\n",
       "      <td>Afternoon</td>\n",
       "    </tr>\n",
       "  </tbody>\n",
       "</table>\n",
       "<p>1470 rows × 7 columns</p>\n",
       "</div>"
      ],
      "text/plain": [
       "          Country             Area  Activity Sex Age Fatal (Y/N)       Time\n",
       "1             USA          Georgia  Standing   F  11           N  Afternoon\n",
       "2             USA           Hawaii   Surfing   M  48           N    Morning\n",
       "6          BRAZIL       Pernambuco  Swimming   M  18           Y  Afternoon\n",
       "8             USA          Florida   Walking   M  15           N    Evening\n",
       "9             USA          Florida  Standing   M  12           N  Afternoon\n",
       "...           ...              ...       ...  ..  ..         ...        ...\n",
       "5814    AUSTRALIA       Queensland  Swimming   M  12           Y  Afternoon\n",
       "5844          USA         New York  Swimming   M  14           Y  Afternoon\n",
       "5958    AUSTRALIA  New South Wales   Bathing   M  17           Y    Evening\n",
       "5963  NEW ZEALAND     North Island  Swimming   M  28           N      Night\n",
       "5991    AUSTRALIA         Victoria   Bathing   M  22           Y  Afternoon\n",
       "\n",
       "[1470 rows x 7 columns]"
      ]
     },
     "execution_count": 47,
     "metadata": {},
     "output_type": "execute_result"
    }
   ],
   "source": [
    "df"
   ]
  },
  {
   "cell_type": "code",
   "execution_count": 48,
   "id": "aa82892c",
   "metadata": {},
   "outputs": [],
   "source": [
    "df['Fatal (Y/N)'].replace({\"N\":0, \"Y\":1}, inplace=True)"
   ]
  },
  {
   "cell_type": "code",
   "execution_count": 49,
   "id": "ad09de5f",
   "metadata": {},
   "outputs": [
    {
     "data": {
      "text/plain": [
       "0    1262\n",
       "1     208\n",
       "Name: Fatal (Y/N), dtype: int64"
      ]
     },
     "execution_count": 49,
     "metadata": {},
     "output_type": "execute_result"
    }
   ],
   "source": [
    "df['Fatal (Y/N)'].value_counts()"
   ]
  },
  {
   "cell_type": "code",
   "execution_count": 50,
   "id": "bb653267",
   "metadata": {},
   "outputs": [
    {
     "data": {
      "text/plain": [
       "{'AUSTRALIA': 0.2727272727272727,\n",
       " 'BAHAMAS': 0.07692307692307693,\n",
       " 'BRAZIL': 0.36,\n",
       " 'EGYPT': 0.25,\n",
       " 'FIJI': 0.3,\n",
       " 'MEXICO': 0.5,\n",
       " 'MOZAMBIQUE': 0.18181818181818182,\n",
       " 'NEW CALEDONIA': 0.4,\n",
       " 'NEW ZEALAND': 0.1875,\n",
       " 'PAPUA NEW GUINEA': 0.5,\n",
       " 'REUNION': 0.46153846153846156,\n",
       " 'SOUTH AFRICA': 0.20465116279069767,\n",
       " 'USA': 0.040100250626566414}"
      ]
     },
     "execution_count": 50,
     "metadata": {},
     "output_type": "execute_result"
    }
   ],
   "source": [
    "mean_country = df.groupby('Country')['Fatal (Y/N)'].mean().to_dict()\n",
    "mean_country"
   ]
  },
  {
   "cell_type": "code",
   "execution_count": 51,
   "id": "cd71eddd",
   "metadata": {},
   "outputs": [
    {
     "data": {
      "text/plain": [
       "{' Lau Province': 0.0,\n",
       " ' Loyalty Islands': 0.0,\n",
       " '10ºS, 142ºE': 0.0,\n",
       " 'Abaco Islands': 0.08333333333333333,\n",
       " 'Alabama': 0.0,\n",
       " 'Andros Islands': 0.0,\n",
       " 'Baja California': 0.0,\n",
       " 'Baja California Sur': 1.0,\n",
       " 'Berry Islands': 0.0,\n",
       " 'Bimini Islands': 0.0,\n",
       " 'California': 0.10526315789473684,\n",
       " 'Cat Cay': 0.0,\n",
       " 'Central Province': 0.0,\n",
       " 'Connecticut': 0.0,\n",
       " 'Conservatória District': 0.0,\n",
       " 'Delaware': 0.0,\n",
       " 'Eastern Cape  Province': 0.0,\n",
       " 'Eastern Cape Province': 0.15492957746478872,\n",
       " 'Exuma Islands': 0.0,\n",
       " 'Fernando de Noronha': 0.0,\n",
       " 'Florida': 0.010224948875255624,\n",
       " 'Gaza': 0.25,\n",
       " 'Georgia': 0.0,\n",
       " 'Grand Bahama Island': 0.0,\n",
       " 'Grand Terre': 1.0,\n",
       " \"Grand'Anse\": 0.0,\n",
       " 'Guerrero': 0.75,\n",
       " 'Guerro': 0.5,\n",
       " 'Hawaii': 0.08974358974358974,\n",
       " 'Inhambane Province': 0.0,\n",
       " 'Johnston Atoll': 0.0,\n",
       " 'Kadavu': 0.0,\n",
       " 'KwaZulu-Natal': 0.25316455696202533,\n",
       " \"L'Etang-Salé\": 0.0,\n",
       " 'Le Port': 0.0,\n",
       " 'Lomaiviti  Island Group': 0.0,\n",
       " 'Lomaloma, Lau': 0.0,\n",
       " 'Louisiana': 0.0,\n",
       " 'Loyalty Islands': 1.0,\n",
       " 'Madang': 1.0,\n",
       " 'Maine': 0.0,\n",
       " 'Maputo Province': 0.0,\n",
       " 'Massachusetts': 0.0,\n",
       " 'Mediterranean Sea': 0.0,\n",
       " 'Milne Bay Province': 0.6666666666666666,\n",
       " 'New Ireland Province': 1.0,\n",
       " 'New Jersey': 0.2857142857142857,\n",
       " 'New Providence ': 0.0,\n",
       " 'New South Wales': 0.2900763358778626,\n",
       " 'New York': 0.3333333333333333,\n",
       " 'North Carolina': 0.0975609756097561,\n",
       " 'North Island': 0.14285714285714285,\n",
       " 'North Province': 0.25,\n",
       " 'Northern Bahamas': 1.0,\n",
       " 'Northern District': 0.0,\n",
       " 'Northern Territory': 0.0,\n",
       " 'Off Vanua Levu': 1.0,\n",
       " 'Oregon': 0.0,\n",
       " 'Palmyra Atoll': 0.0,\n",
       " 'Pernambuco': 0.391304347826087,\n",
       " 'Puerto Rico': 0.5,\n",
       " 'Queensland': 0.25,\n",
       " 'Quintana Roo': 0.3333333333333333,\n",
       " 'Rhode Island': 1.0,\n",
       " 'Rio de Janeiro': 0.0,\n",
       " 'Saint Gilles ': 0.0,\n",
       " 'Saint Leu': 0.0,\n",
       " 'Saint-Andre': 1.0,\n",
       " 'Saint-Benoit': 0.0,\n",
       " 'Saint-Benoît': 0.0,\n",
       " 'Saint-Denis': 1.0,\n",
       " 'Saint-Gilles': 0.6666666666666666,\n",
       " 'Saint-Gilles-les-Bains': 0.6666666666666666,\n",
       " 'Saint-Leu': 0.5,\n",
       " 'Saint-Paul': 1.0,\n",
       " 'Saint-Paul ': 1.0,\n",
       " 'Saint-Pierre': 0.5,\n",
       " 'Sinaloa': 0.3333333333333333,\n",
       " 'South Australia': 0.25925925925925924,\n",
       " 'South Carolina': 0.023809523809523808,\n",
       " 'South Island': 0.2857142857142857,\n",
       " 'South Island, near Karitane north of Dunedin': 0.0,\n",
       " 'South Province': 0.3333333333333333,\n",
       " 'South Sinai Peninsula': 0.2,\n",
       " 'Southland': 0.0,\n",
       " 'St. Johns Reef': 1.0,\n",
       " 'Suez': 0.0,\n",
       " 'Tasmania': 0.0,\n",
       " 'Taveuni': 0.0,\n",
       " 'Territory of Cocos (Keeling) Islands': 0.0,\n",
       " 'Texas': 0.047619047619047616,\n",
       " 'Trois-Bassins': 1.0,\n",
       " 'US Virgin Islands': 0.5,\n",
       " 'Vanua Levu': 1.0,\n",
       " 'Veracruz': 0.5,\n",
       " 'Victoria': 0.19047619047619047,\n",
       " 'Virginia': 0.0,\n",
       " 'Vita Levu': 1.0,\n",
       " 'Vitu Levu': 0.0,\n",
       " 'Walkers Cay': 0.0,\n",
       " 'West End': 0.0,\n",
       " 'Western Australia': 0.32653061224489793,\n",
       " 'Western Cape Province': 0.19047619047619047,\n",
       " 'Western Province': 1.0,\n",
       " 'd\\x92Étang-Salé': 0.5}"
      ]
     },
     "execution_count": 51,
     "metadata": {},
     "output_type": "execute_result"
    }
   ],
   "source": [
    "mean_area = df.groupby('Area')['Fatal (Y/N)'].mean().to_dict()\n",
    "mean_area"
   ]
  },
  {
   "cell_type": "code",
   "execution_count": 52,
   "id": "0547c8d6",
   "metadata": {},
   "outputs": [
    {
     "data": {
      "text/plain": [
       "{'Bathing': 0.55,\n",
       " 'Body boarding': 0.2826086956521739,\n",
       " 'Body surfing': 0.16216216216216217,\n",
       " 'Boogie Boarding': 0.08333333333333333,\n",
       " 'Boogie boarding': 0.05,\n",
       " 'Diving': 0.26666666666666666,\n",
       " 'Fishing': 0.022727272727272728,\n",
       " 'Free diving': 0.1,\n",
       " 'Kayaking': 0.07692307692307693,\n",
       " 'Scuba diving': 0.3,\n",
       " 'Snorkeling': 0.1956521739130435,\n",
       " 'Spearfishing': 0.1574074074074074,\n",
       " 'Standing': 0.0847457627118644,\n",
       " 'Surfing': 0.05641025641025641,\n",
       " 'Swimming': 0.2757475083056478,\n",
       " 'Treading water': 0.23076923076923078,\n",
       " 'Wading': 0.07142857142857142,\n",
       " 'Walking': 0.07692307692307693,\n",
       " 'Windsurfing': 0.2727272727272727}"
      ]
     },
     "execution_count": 52,
     "metadata": {},
     "output_type": "execute_result"
    }
   ],
   "source": [
    "mean_activity = df.groupby('Activity')['Fatal (Y/N)'].mean().to_dict()\n",
    "mean_activity"
   ]
  },
  {
   "cell_type": "code",
   "execution_count": 53,
   "id": "bcb90ac9",
   "metadata": {},
   "outputs": [
    {
     "data": {
      "text/plain": [
       "0.1414965986394558"
      ]
     },
     "execution_count": 53,
     "metadata": {},
     "output_type": "execute_result"
    }
   ],
   "source": [
    "df['Fatal (Y/N)'].mean()"
   ]
  },
  {
   "cell_type": "markdown",
   "id": "9ee68d1d",
   "metadata": {},
   "source": [
    "## One hot encoding sex column"
   ]
  },
  {
   "cell_type": "code",
   "execution_count": 54,
   "id": "b44a280d",
   "metadata": {},
   "outputs": [],
   "source": [
    "df = pd.get_dummies(df, columns = ['Sex'])"
   ]
  },
  {
   "cell_type": "code",
   "execution_count": 55,
   "id": "96cdfa7e",
   "metadata": {},
   "outputs": [
    {
     "data": {
      "text/html": [
       "<div>\n",
       "<style scoped>\n",
       "    .dataframe tbody tr th:only-of-type {\n",
       "        vertical-align: middle;\n",
       "    }\n",
       "\n",
       "    .dataframe tbody tr th {\n",
       "        vertical-align: top;\n",
       "    }\n",
       "\n",
       "    .dataframe thead th {\n",
       "        text-align: right;\n",
       "    }\n",
       "</style>\n",
       "<table border=\"1\" class=\"dataframe\">\n",
       "  <thead>\n",
       "    <tr style=\"text-align: right;\">\n",
       "      <th></th>\n",
       "      <th>Country</th>\n",
       "      <th>Area</th>\n",
       "      <th>Activity</th>\n",
       "      <th>Age</th>\n",
       "      <th>Fatal (Y/N)</th>\n",
       "      <th>Time</th>\n",
       "      <th>Sex_F</th>\n",
       "      <th>Sex_M</th>\n",
       "    </tr>\n",
       "  </thead>\n",
       "  <tbody>\n",
       "    <tr>\n",
       "      <th>1</th>\n",
       "      <td>USA</td>\n",
       "      <td>Georgia</td>\n",
       "      <td>Standing</td>\n",
       "      <td>11</td>\n",
       "      <td>0</td>\n",
       "      <td>Afternoon</td>\n",
       "      <td>1</td>\n",
       "      <td>0</td>\n",
       "    </tr>\n",
       "    <tr>\n",
       "      <th>2</th>\n",
       "      <td>USA</td>\n",
       "      <td>Hawaii</td>\n",
       "      <td>Surfing</td>\n",
       "      <td>48</td>\n",
       "      <td>0</td>\n",
       "      <td>Morning</td>\n",
       "      <td>0</td>\n",
       "      <td>1</td>\n",
       "    </tr>\n",
       "    <tr>\n",
       "      <th>6</th>\n",
       "      <td>BRAZIL</td>\n",
       "      <td>Pernambuco</td>\n",
       "      <td>Swimming</td>\n",
       "      <td>18</td>\n",
       "      <td>1</td>\n",
       "      <td>Afternoon</td>\n",
       "      <td>0</td>\n",
       "      <td>1</td>\n",
       "    </tr>\n",
       "    <tr>\n",
       "      <th>8</th>\n",
       "      <td>USA</td>\n",
       "      <td>Florida</td>\n",
       "      <td>Walking</td>\n",
       "      <td>15</td>\n",
       "      <td>0</td>\n",
       "      <td>Evening</td>\n",
       "      <td>0</td>\n",
       "      <td>1</td>\n",
       "    </tr>\n",
       "    <tr>\n",
       "      <th>9</th>\n",
       "      <td>USA</td>\n",
       "      <td>Florida</td>\n",
       "      <td>Standing</td>\n",
       "      <td>12</td>\n",
       "      <td>0</td>\n",
       "      <td>Afternoon</td>\n",
       "      <td>0</td>\n",
       "      <td>1</td>\n",
       "    </tr>\n",
       "    <tr>\n",
       "      <th>...</th>\n",
       "      <td>...</td>\n",
       "      <td>...</td>\n",
       "      <td>...</td>\n",
       "      <td>...</td>\n",
       "      <td>...</td>\n",
       "      <td>...</td>\n",
       "      <td>...</td>\n",
       "      <td>...</td>\n",
       "    </tr>\n",
       "    <tr>\n",
       "      <th>5814</th>\n",
       "      <td>AUSTRALIA</td>\n",
       "      <td>Queensland</td>\n",
       "      <td>Swimming</td>\n",
       "      <td>12</td>\n",
       "      <td>1</td>\n",
       "      <td>Afternoon</td>\n",
       "      <td>0</td>\n",
       "      <td>1</td>\n",
       "    </tr>\n",
       "    <tr>\n",
       "      <th>5844</th>\n",
       "      <td>USA</td>\n",
       "      <td>New York</td>\n",
       "      <td>Swimming</td>\n",
       "      <td>14</td>\n",
       "      <td>1</td>\n",
       "      <td>Afternoon</td>\n",
       "      <td>0</td>\n",
       "      <td>1</td>\n",
       "    </tr>\n",
       "    <tr>\n",
       "      <th>5958</th>\n",
       "      <td>AUSTRALIA</td>\n",
       "      <td>New South Wales</td>\n",
       "      <td>Bathing</td>\n",
       "      <td>17</td>\n",
       "      <td>1</td>\n",
       "      <td>Evening</td>\n",
       "      <td>0</td>\n",
       "      <td>1</td>\n",
       "    </tr>\n",
       "    <tr>\n",
       "      <th>5963</th>\n",
       "      <td>NEW ZEALAND</td>\n",
       "      <td>North Island</td>\n",
       "      <td>Swimming</td>\n",
       "      <td>28</td>\n",
       "      <td>0</td>\n",
       "      <td>Night</td>\n",
       "      <td>0</td>\n",
       "      <td>1</td>\n",
       "    </tr>\n",
       "    <tr>\n",
       "      <th>5991</th>\n",
       "      <td>AUSTRALIA</td>\n",
       "      <td>Victoria</td>\n",
       "      <td>Bathing</td>\n",
       "      <td>22</td>\n",
       "      <td>1</td>\n",
       "      <td>Afternoon</td>\n",
       "      <td>0</td>\n",
       "      <td>1</td>\n",
       "    </tr>\n",
       "  </tbody>\n",
       "</table>\n",
       "<p>1470 rows × 8 columns</p>\n",
       "</div>"
      ],
      "text/plain": [
       "          Country             Area  Activity Age  Fatal (Y/N)       Time  \\\n",
       "1             USA          Georgia  Standing  11            0  Afternoon   \n",
       "2             USA           Hawaii   Surfing  48            0    Morning   \n",
       "6          BRAZIL       Pernambuco  Swimming  18            1  Afternoon   \n",
       "8             USA          Florida   Walking  15            0    Evening   \n",
       "9             USA          Florida  Standing  12            0  Afternoon   \n",
       "...           ...              ...       ...  ..          ...        ...   \n",
       "5814    AUSTRALIA       Queensland  Swimming  12            1  Afternoon   \n",
       "5844          USA         New York  Swimming  14            1  Afternoon   \n",
       "5958    AUSTRALIA  New South Wales   Bathing  17            1    Evening   \n",
       "5963  NEW ZEALAND     North Island  Swimming  28            0      Night   \n",
       "5991    AUSTRALIA         Victoria   Bathing  22            1  Afternoon   \n",
       "\n",
       "      Sex_F  Sex_M  \n",
       "1         1      0  \n",
       "2         0      1  \n",
       "6         0      1  \n",
       "8         0      1  \n",
       "9         0      1  \n",
       "...     ...    ...  \n",
       "5814      0      1  \n",
       "5844      0      1  \n",
       "5958      0      1  \n",
       "5963      0      1  \n",
       "5991      0      1  \n",
       "\n",
       "[1470 rows x 8 columns]"
      ]
     },
     "execution_count": 55,
     "metadata": {},
     "output_type": "execute_result"
    }
   ],
   "source": [
    "df"
   ]
  },
  {
   "cell_type": "markdown",
   "id": "42af3447",
   "metadata": {},
   "source": [
    "## Target Encoding Country column"
   ]
  },
  {
   "cell_type": "code",
   "execution_count": 56,
   "id": "3a5d70c1",
   "metadata": {},
   "outputs": [],
   "source": [
    "import category_encoders as ce"
   ]
  },
  {
   "cell_type": "code",
   "execution_count": 57,
   "id": "d3ca3d57",
   "metadata": {},
   "outputs": [],
   "source": [
    "y = df['Fatal (Y/N)']"
   ]
  },
  {
   "cell_type": "code",
   "execution_count": 58,
   "id": "72b7137e",
   "metadata": {},
   "outputs": [
    {
     "data": {
      "text/plain": [
       "1       0\n",
       "2       0\n",
       "6       1\n",
       "8       0\n",
       "9       0\n",
       "       ..\n",
       "5814    1\n",
       "5844    1\n",
       "5958    1\n",
       "5963    0\n",
       "5991    1\n",
       "Name: Fatal (Y/N), Length: 1470, dtype: int64"
      ]
     },
     "execution_count": 58,
     "metadata": {},
     "output_type": "execute_result"
    }
   ],
   "source": [
    "y"
   ]
  },
  {
   "cell_type": "code",
   "execution_count": 59,
   "id": "5633ad1b",
   "metadata": {},
   "outputs": [],
   "source": [
    "X = df.drop('Fatal (Y/N)', axis=1)"
   ]
  },
  {
   "cell_type": "code",
   "execution_count": 60,
   "id": "9634555c",
   "metadata": {},
   "outputs": [
    {
     "data": {
      "text/html": [
       "<div>\n",
       "<style scoped>\n",
       "    .dataframe tbody tr th:only-of-type {\n",
       "        vertical-align: middle;\n",
       "    }\n",
       "\n",
       "    .dataframe tbody tr th {\n",
       "        vertical-align: top;\n",
       "    }\n",
       "\n",
       "    .dataframe thead th {\n",
       "        text-align: right;\n",
       "    }\n",
       "</style>\n",
       "<table border=\"1\" class=\"dataframe\">\n",
       "  <thead>\n",
       "    <tr style=\"text-align: right;\">\n",
       "      <th></th>\n",
       "      <th>Country</th>\n",
       "      <th>Area</th>\n",
       "      <th>Activity</th>\n",
       "      <th>Age</th>\n",
       "      <th>Time</th>\n",
       "      <th>Sex_F</th>\n",
       "      <th>Sex_M</th>\n",
       "    </tr>\n",
       "  </thead>\n",
       "  <tbody>\n",
       "    <tr>\n",
       "      <th>1</th>\n",
       "      <td>USA</td>\n",
       "      <td>Georgia</td>\n",
       "      <td>Standing</td>\n",
       "      <td>11</td>\n",
       "      <td>Afternoon</td>\n",
       "      <td>1</td>\n",
       "      <td>0</td>\n",
       "    </tr>\n",
       "    <tr>\n",
       "      <th>2</th>\n",
       "      <td>USA</td>\n",
       "      <td>Hawaii</td>\n",
       "      <td>Surfing</td>\n",
       "      <td>48</td>\n",
       "      <td>Morning</td>\n",
       "      <td>0</td>\n",
       "      <td>1</td>\n",
       "    </tr>\n",
       "    <tr>\n",
       "      <th>6</th>\n",
       "      <td>BRAZIL</td>\n",
       "      <td>Pernambuco</td>\n",
       "      <td>Swimming</td>\n",
       "      <td>18</td>\n",
       "      <td>Afternoon</td>\n",
       "      <td>0</td>\n",
       "      <td>1</td>\n",
       "    </tr>\n",
       "    <tr>\n",
       "      <th>8</th>\n",
       "      <td>USA</td>\n",
       "      <td>Florida</td>\n",
       "      <td>Walking</td>\n",
       "      <td>15</td>\n",
       "      <td>Evening</td>\n",
       "      <td>0</td>\n",
       "      <td>1</td>\n",
       "    </tr>\n",
       "    <tr>\n",
       "      <th>9</th>\n",
       "      <td>USA</td>\n",
       "      <td>Florida</td>\n",
       "      <td>Standing</td>\n",
       "      <td>12</td>\n",
       "      <td>Afternoon</td>\n",
       "      <td>0</td>\n",
       "      <td>1</td>\n",
       "    </tr>\n",
       "    <tr>\n",
       "      <th>...</th>\n",
       "      <td>...</td>\n",
       "      <td>...</td>\n",
       "      <td>...</td>\n",
       "      <td>...</td>\n",
       "      <td>...</td>\n",
       "      <td>...</td>\n",
       "      <td>...</td>\n",
       "    </tr>\n",
       "    <tr>\n",
       "      <th>5814</th>\n",
       "      <td>AUSTRALIA</td>\n",
       "      <td>Queensland</td>\n",
       "      <td>Swimming</td>\n",
       "      <td>12</td>\n",
       "      <td>Afternoon</td>\n",
       "      <td>0</td>\n",
       "      <td>1</td>\n",
       "    </tr>\n",
       "    <tr>\n",
       "      <th>5844</th>\n",
       "      <td>USA</td>\n",
       "      <td>New York</td>\n",
       "      <td>Swimming</td>\n",
       "      <td>14</td>\n",
       "      <td>Afternoon</td>\n",
       "      <td>0</td>\n",
       "      <td>1</td>\n",
       "    </tr>\n",
       "    <tr>\n",
       "      <th>5958</th>\n",
       "      <td>AUSTRALIA</td>\n",
       "      <td>New South Wales</td>\n",
       "      <td>Bathing</td>\n",
       "      <td>17</td>\n",
       "      <td>Evening</td>\n",
       "      <td>0</td>\n",
       "      <td>1</td>\n",
       "    </tr>\n",
       "    <tr>\n",
       "      <th>5963</th>\n",
       "      <td>NEW ZEALAND</td>\n",
       "      <td>North Island</td>\n",
       "      <td>Swimming</td>\n",
       "      <td>28</td>\n",
       "      <td>Night</td>\n",
       "      <td>0</td>\n",
       "      <td>1</td>\n",
       "    </tr>\n",
       "    <tr>\n",
       "      <th>5991</th>\n",
       "      <td>AUSTRALIA</td>\n",
       "      <td>Victoria</td>\n",
       "      <td>Bathing</td>\n",
       "      <td>22</td>\n",
       "      <td>Afternoon</td>\n",
       "      <td>0</td>\n",
       "      <td>1</td>\n",
       "    </tr>\n",
       "  </tbody>\n",
       "</table>\n",
       "<p>1470 rows × 7 columns</p>\n",
       "</div>"
      ],
      "text/plain": [
       "          Country             Area  Activity Age       Time  Sex_F  Sex_M\n",
       "1             USA          Georgia  Standing  11  Afternoon      1      0\n",
       "2             USA           Hawaii   Surfing  48    Morning      0      1\n",
       "6          BRAZIL       Pernambuco  Swimming  18  Afternoon      0      1\n",
       "8             USA          Florida   Walking  15    Evening      0      1\n",
       "9             USA          Florida  Standing  12  Afternoon      0      1\n",
       "...           ...              ...       ...  ..        ...    ...    ...\n",
       "5814    AUSTRALIA       Queensland  Swimming  12  Afternoon      0      1\n",
       "5844          USA         New York  Swimming  14  Afternoon      0      1\n",
       "5958    AUSTRALIA  New South Wales   Bathing  17    Evening      0      1\n",
       "5963  NEW ZEALAND     North Island  Swimming  28      Night      0      1\n",
       "5991    AUSTRALIA         Victoria   Bathing  22  Afternoon      0      1\n",
       "\n",
       "[1470 rows x 7 columns]"
      ]
     },
     "execution_count": 60,
     "metadata": {},
     "output_type": "execute_result"
    }
   ],
   "source": [
    "X"
   ]
  },
  {
   "cell_type": "code",
   "execution_count": 61,
   "id": "ac5bb48c",
   "metadata": {},
   "outputs": [
    {
     "name": "stderr",
     "output_type": "stream",
     "text": [
      "C:\\Users\\nihal\\Anaconda3\\envs\\MLprojects\\lib\\site-packages\\category_encoders\\utils.py:21: FutureWarning: is_categorical is deprecated and will be removed in a future version.  Use is_categorical_dtype instead\n",
      "  elif pd.api.types.is_categorical(cols):\n"
     ]
    },
    {
     "data": {
      "text/html": [
       "<div>\n",
       "<style scoped>\n",
       "    .dataframe tbody tr th:only-of-type {\n",
       "        vertical-align: middle;\n",
       "    }\n",
       "\n",
       "    .dataframe tbody tr th {\n",
       "        vertical-align: top;\n",
       "    }\n",
       "\n",
       "    .dataframe thead th {\n",
       "        text-align: right;\n",
       "    }\n",
       "</style>\n",
       "<table border=\"1\" class=\"dataframe\">\n",
       "  <thead>\n",
       "    <tr style=\"text-align: right;\">\n",
       "      <th></th>\n",
       "      <th>Country</th>\n",
       "    </tr>\n",
       "  </thead>\n",
       "  <tbody>\n",
       "    <tr>\n",
       "      <th>1</th>\n",
       "      <td>0.040100</td>\n",
       "    </tr>\n",
       "    <tr>\n",
       "      <th>2</th>\n",
       "      <td>0.040100</td>\n",
       "    </tr>\n",
       "    <tr>\n",
       "      <th>6</th>\n",
       "      <td>0.360000</td>\n",
       "    </tr>\n",
       "    <tr>\n",
       "      <th>8</th>\n",
       "      <td>0.040100</td>\n",
       "    </tr>\n",
       "    <tr>\n",
       "      <th>9</th>\n",
       "      <td>0.040100</td>\n",
       "    </tr>\n",
       "    <tr>\n",
       "      <th>...</th>\n",
       "      <td>...</td>\n",
       "    </tr>\n",
       "    <tr>\n",
       "      <th>5814</th>\n",
       "      <td>0.272727</td>\n",
       "    </tr>\n",
       "    <tr>\n",
       "      <th>5844</th>\n",
       "      <td>0.040100</td>\n",
       "    </tr>\n",
       "    <tr>\n",
       "      <th>5958</th>\n",
       "      <td>0.272727</td>\n",
       "    </tr>\n",
       "    <tr>\n",
       "      <th>5963</th>\n",
       "      <td>0.187500</td>\n",
       "    </tr>\n",
       "    <tr>\n",
       "      <th>5991</th>\n",
       "      <td>0.272727</td>\n",
       "    </tr>\n",
       "  </tbody>\n",
       "</table>\n",
       "<p>1470 rows × 1 columns</p>\n",
       "</div>"
      ],
      "text/plain": [
       "       Country\n",
       "1     0.040100\n",
       "2     0.040100\n",
       "6     0.360000\n",
       "8     0.040100\n",
       "9     0.040100\n",
       "...        ...\n",
       "5814  0.272727\n",
       "5844  0.040100\n",
       "5958  0.272727\n",
       "5963  0.187500\n",
       "5991  0.272727\n",
       "\n",
       "[1470 rows x 1 columns]"
      ]
     },
     "execution_count": 61,
     "metadata": {},
     "output_type": "execute_result"
    }
   ],
   "source": [
    "country_encoder = ce.TargetEncoder(cols='Country')\n",
    "df1 = country_encoder.fit_transform(df['Country'], df['Fatal (Y/N)'])\n",
    "df1"
   ]
  },
  {
   "cell_type": "code",
   "execution_count": 62,
   "id": "b7fd6189",
   "metadata": {},
   "outputs": [
    {
     "data": {
      "text/html": [
       "<div>\n",
       "<style scoped>\n",
       "    .dataframe tbody tr th:only-of-type {\n",
       "        vertical-align: middle;\n",
       "    }\n",
       "\n",
       "    .dataframe tbody tr th {\n",
       "        vertical-align: top;\n",
       "    }\n",
       "\n",
       "    .dataframe thead th {\n",
       "        text-align: right;\n",
       "    }\n",
       "</style>\n",
       "<table border=\"1\" class=\"dataframe\">\n",
       "  <thead>\n",
       "    <tr style=\"text-align: right;\">\n",
       "      <th></th>\n",
       "      <th>Country</th>\n",
       "      <th>Area</th>\n",
       "      <th>Activity</th>\n",
       "      <th>Age</th>\n",
       "      <th>Time</th>\n",
       "      <th>Sex_F</th>\n",
       "      <th>Sex_M</th>\n",
       "    </tr>\n",
       "  </thead>\n",
       "  <tbody>\n",
       "    <tr>\n",
       "      <th>1</th>\n",
       "      <td>0.040100</td>\n",
       "      <td>Georgia</td>\n",
       "      <td>Standing</td>\n",
       "      <td>11</td>\n",
       "      <td>Afternoon</td>\n",
       "      <td>1</td>\n",
       "      <td>0</td>\n",
       "    </tr>\n",
       "    <tr>\n",
       "      <th>2</th>\n",
       "      <td>0.040100</td>\n",
       "      <td>Hawaii</td>\n",
       "      <td>Surfing</td>\n",
       "      <td>48</td>\n",
       "      <td>Morning</td>\n",
       "      <td>0</td>\n",
       "      <td>1</td>\n",
       "    </tr>\n",
       "    <tr>\n",
       "      <th>6</th>\n",
       "      <td>0.360000</td>\n",
       "      <td>Pernambuco</td>\n",
       "      <td>Swimming</td>\n",
       "      <td>18</td>\n",
       "      <td>Afternoon</td>\n",
       "      <td>0</td>\n",
       "      <td>1</td>\n",
       "    </tr>\n",
       "    <tr>\n",
       "      <th>8</th>\n",
       "      <td>0.040100</td>\n",
       "      <td>Florida</td>\n",
       "      <td>Walking</td>\n",
       "      <td>15</td>\n",
       "      <td>Evening</td>\n",
       "      <td>0</td>\n",
       "      <td>1</td>\n",
       "    </tr>\n",
       "    <tr>\n",
       "      <th>9</th>\n",
       "      <td>0.040100</td>\n",
       "      <td>Florida</td>\n",
       "      <td>Standing</td>\n",
       "      <td>12</td>\n",
       "      <td>Afternoon</td>\n",
       "      <td>0</td>\n",
       "      <td>1</td>\n",
       "    </tr>\n",
       "    <tr>\n",
       "      <th>...</th>\n",
       "      <td>...</td>\n",
       "      <td>...</td>\n",
       "      <td>...</td>\n",
       "      <td>...</td>\n",
       "      <td>...</td>\n",
       "      <td>...</td>\n",
       "      <td>...</td>\n",
       "    </tr>\n",
       "    <tr>\n",
       "      <th>5814</th>\n",
       "      <td>0.272727</td>\n",
       "      <td>Queensland</td>\n",
       "      <td>Swimming</td>\n",
       "      <td>12</td>\n",
       "      <td>Afternoon</td>\n",
       "      <td>0</td>\n",
       "      <td>1</td>\n",
       "    </tr>\n",
       "    <tr>\n",
       "      <th>5844</th>\n",
       "      <td>0.040100</td>\n",
       "      <td>New York</td>\n",
       "      <td>Swimming</td>\n",
       "      <td>14</td>\n",
       "      <td>Afternoon</td>\n",
       "      <td>0</td>\n",
       "      <td>1</td>\n",
       "    </tr>\n",
       "    <tr>\n",
       "      <th>5958</th>\n",
       "      <td>0.272727</td>\n",
       "      <td>New South Wales</td>\n",
       "      <td>Bathing</td>\n",
       "      <td>17</td>\n",
       "      <td>Evening</td>\n",
       "      <td>0</td>\n",
       "      <td>1</td>\n",
       "    </tr>\n",
       "    <tr>\n",
       "      <th>5963</th>\n",
       "      <td>0.187500</td>\n",
       "      <td>North Island</td>\n",
       "      <td>Swimming</td>\n",
       "      <td>28</td>\n",
       "      <td>Night</td>\n",
       "      <td>0</td>\n",
       "      <td>1</td>\n",
       "    </tr>\n",
       "    <tr>\n",
       "      <th>5991</th>\n",
       "      <td>0.272727</td>\n",
       "      <td>Victoria</td>\n",
       "      <td>Bathing</td>\n",
       "      <td>22</td>\n",
       "      <td>Afternoon</td>\n",
       "      <td>0</td>\n",
       "      <td>1</td>\n",
       "    </tr>\n",
       "  </tbody>\n",
       "</table>\n",
       "<p>1470 rows × 7 columns</p>\n",
       "</div>"
      ],
      "text/plain": [
       "       Country             Area  Activity Age       Time  Sex_F  Sex_M\n",
       "1     0.040100          Georgia  Standing  11  Afternoon      1      0\n",
       "2     0.040100           Hawaii   Surfing  48    Morning      0      1\n",
       "6     0.360000       Pernambuco  Swimming  18  Afternoon      0      1\n",
       "8     0.040100          Florida   Walking  15    Evening      0      1\n",
       "9     0.040100          Florida  Standing  12  Afternoon      0      1\n",
       "...        ...              ...       ...  ..        ...    ...    ...\n",
       "5814  0.272727       Queensland  Swimming  12  Afternoon      0      1\n",
       "5844  0.040100         New York  Swimming  14  Afternoon      0      1\n",
       "5958  0.272727  New South Wales   Bathing  17    Evening      0      1\n",
       "5963  0.187500     North Island  Swimming  28      Night      0      1\n",
       "5991  0.272727         Victoria   Bathing  22  Afternoon      0      1\n",
       "\n",
       "[1470 rows x 7 columns]"
      ]
     },
     "execution_count": 62,
     "metadata": {},
     "output_type": "execute_result"
    }
   ],
   "source": [
    "X['Country'] = df1\n",
    "X"
   ]
  },
  {
   "cell_type": "code",
   "execution_count": 63,
   "id": "b74a7e6b",
   "metadata": {},
   "outputs": [
    {
     "data": {
      "text/plain": [
       "{'cols': ['Country'],\n",
       " 'drop_invariant': False,\n",
       " 'handle_missing': 'value',\n",
       " 'handle_unknown': 'value',\n",
       " 'min_samples_leaf': 1,\n",
       " 'return_df': True,\n",
       " 'smoothing': 1.0,\n",
       " 'verbose': 0}"
      ]
     },
     "execution_count": 63,
     "metadata": {},
     "output_type": "execute_result"
    }
   ],
   "source": [
    "country_encoder.get_params()"
   ]
  },
  {
   "cell_type": "code",
   "execution_count": 64,
   "id": "dcb9b839",
   "metadata": {},
   "outputs": [
    {
     "data": {
      "text/plain": [
       "{'Country': Country\n",
       "  1     0.040100\n",
       "  2     0.360000\n",
       "  3     0.272727\n",
       "  4     0.204651\n",
       "  5     0.076923\n",
       "  6     0.500000\n",
       "  7     0.461538\n",
       "  8     0.249901\n",
       "  9     0.187500\n",
       "  10    0.399968\n",
       "  11    0.181816\n",
       "  12    0.299980\n",
       "  13    0.499956\n",
       " -1     0.141497\n",
       " -2     0.141497\n",
       " dtype: float64}"
      ]
     },
     "execution_count": 64,
     "metadata": {},
     "output_type": "execute_result"
    }
   ],
   "source": [
    "country_encoder.mapping"
   ]
  },
  {
   "cell_type": "code",
   "execution_count": 65,
   "id": "c61e8e15",
   "metadata": {},
   "outputs": [
    {
     "data": {
      "text/plain": [
       "array(['USA', 'BRAZIL', 'AUSTRALIA', 'SOUTH AFRICA', 'BAHAMAS', 'MEXICO',\n",
       "       'REUNION', 'EGYPT', 'NEW ZEALAND', 'NEW CALEDONIA', 'MOZAMBIQUE',\n",
       "       'FIJI', 'PAPUA NEW GUINEA'], dtype=object)"
      ]
     },
     "execution_count": 65,
     "metadata": {},
     "output_type": "execute_result"
    }
   ],
   "source": [
    "df['Country'].unique()"
   ]
  },
  {
   "cell_type": "code",
   "execution_count": 66,
   "id": "d149f6e3",
   "metadata": {},
   "outputs": [
    {
     "data": {
      "text/plain": [
       "array([0.04010025, 0.36      , 0.27272727, 0.20465116, 0.07692308,\n",
       "       0.49999999, 0.46153846, 0.24990115, 0.18749999, 0.3999681 ,\n",
       "       0.18181635, 0.29998044, 0.49995576])"
      ]
     },
     "execution_count": 66,
     "metadata": {},
     "output_type": "execute_result"
    }
   ],
   "source": [
    "df1['Country'].unique()"
   ]
  },
  {
   "cell_type": "code",
   "execution_count": 67,
   "id": "2c035e74",
   "metadata": {},
   "outputs": [],
   "source": [
    "country_encoding = {'USA' : 0.04010025,'BRAZIL': 0.36,'AUSTRALIA': 0.27272727, 'SOUTH AFRICA': 0.20465116, 'BAHAMAS' : 0.07692308, 'MEXICO' :0.49999999, \n",
    " 'REUNION' : 0.46153846,'EGYPT' :  0.24990115,'NEW ZEALAND' :  0.18749999,'NEW CALEDONIA' :  0.3999681 , 'MOZAMBIQUE' : 0.18181635,\n",
    " 'FIJI' : 0.29998044,'PAPUA NEW GUINEA':  0.49995576}"
   ]
  },
  {
   "cell_type": "markdown",
   "id": "51f6ec4a",
   "metadata": {},
   "source": [
    "## one hot encoding time"
   ]
  },
  {
   "cell_type": "code",
   "execution_count": 68,
   "id": "35cd3a4f",
   "metadata": {},
   "outputs": [],
   "source": [
    "X = pd.get_dummies(X, columns = ['Time'])"
   ]
  },
  {
   "cell_type": "code",
   "execution_count": 69,
   "id": "c2860665",
   "metadata": {},
   "outputs": [
    {
     "data": {
      "text/html": [
       "<div>\n",
       "<style scoped>\n",
       "    .dataframe tbody tr th:only-of-type {\n",
       "        vertical-align: middle;\n",
       "    }\n",
       "\n",
       "    .dataframe tbody tr th {\n",
       "        vertical-align: top;\n",
       "    }\n",
       "\n",
       "    .dataframe thead th {\n",
       "        text-align: right;\n",
       "    }\n",
       "</style>\n",
       "<table border=\"1\" class=\"dataframe\">\n",
       "  <thead>\n",
       "    <tr style=\"text-align: right;\">\n",
       "      <th></th>\n",
       "      <th>Country</th>\n",
       "      <th>Area</th>\n",
       "      <th>Activity</th>\n",
       "      <th>Age</th>\n",
       "      <th>Sex_F</th>\n",
       "      <th>Sex_M</th>\n",
       "      <th>Time_Afternoon</th>\n",
       "      <th>Time_Evening</th>\n",
       "      <th>Time_Morning</th>\n",
       "      <th>Time_Night</th>\n",
       "    </tr>\n",
       "  </thead>\n",
       "  <tbody>\n",
       "    <tr>\n",
       "      <th>1</th>\n",
       "      <td>0.040100</td>\n",
       "      <td>Georgia</td>\n",
       "      <td>Standing</td>\n",
       "      <td>11</td>\n",
       "      <td>1</td>\n",
       "      <td>0</td>\n",
       "      <td>1</td>\n",
       "      <td>0</td>\n",
       "      <td>0</td>\n",
       "      <td>0</td>\n",
       "    </tr>\n",
       "    <tr>\n",
       "      <th>2</th>\n",
       "      <td>0.040100</td>\n",
       "      <td>Hawaii</td>\n",
       "      <td>Surfing</td>\n",
       "      <td>48</td>\n",
       "      <td>0</td>\n",
       "      <td>1</td>\n",
       "      <td>0</td>\n",
       "      <td>0</td>\n",
       "      <td>1</td>\n",
       "      <td>0</td>\n",
       "    </tr>\n",
       "    <tr>\n",
       "      <th>6</th>\n",
       "      <td>0.360000</td>\n",
       "      <td>Pernambuco</td>\n",
       "      <td>Swimming</td>\n",
       "      <td>18</td>\n",
       "      <td>0</td>\n",
       "      <td>1</td>\n",
       "      <td>1</td>\n",
       "      <td>0</td>\n",
       "      <td>0</td>\n",
       "      <td>0</td>\n",
       "    </tr>\n",
       "    <tr>\n",
       "      <th>8</th>\n",
       "      <td>0.040100</td>\n",
       "      <td>Florida</td>\n",
       "      <td>Walking</td>\n",
       "      <td>15</td>\n",
       "      <td>0</td>\n",
       "      <td>1</td>\n",
       "      <td>0</td>\n",
       "      <td>1</td>\n",
       "      <td>0</td>\n",
       "      <td>0</td>\n",
       "    </tr>\n",
       "    <tr>\n",
       "      <th>9</th>\n",
       "      <td>0.040100</td>\n",
       "      <td>Florida</td>\n",
       "      <td>Standing</td>\n",
       "      <td>12</td>\n",
       "      <td>0</td>\n",
       "      <td>1</td>\n",
       "      <td>1</td>\n",
       "      <td>0</td>\n",
       "      <td>0</td>\n",
       "      <td>0</td>\n",
       "    </tr>\n",
       "    <tr>\n",
       "      <th>...</th>\n",
       "      <td>...</td>\n",
       "      <td>...</td>\n",
       "      <td>...</td>\n",
       "      <td>...</td>\n",
       "      <td>...</td>\n",
       "      <td>...</td>\n",
       "      <td>...</td>\n",
       "      <td>...</td>\n",
       "      <td>...</td>\n",
       "      <td>...</td>\n",
       "    </tr>\n",
       "    <tr>\n",
       "      <th>5814</th>\n",
       "      <td>0.272727</td>\n",
       "      <td>Queensland</td>\n",
       "      <td>Swimming</td>\n",
       "      <td>12</td>\n",
       "      <td>0</td>\n",
       "      <td>1</td>\n",
       "      <td>1</td>\n",
       "      <td>0</td>\n",
       "      <td>0</td>\n",
       "      <td>0</td>\n",
       "    </tr>\n",
       "    <tr>\n",
       "      <th>5844</th>\n",
       "      <td>0.040100</td>\n",
       "      <td>New York</td>\n",
       "      <td>Swimming</td>\n",
       "      <td>14</td>\n",
       "      <td>0</td>\n",
       "      <td>1</td>\n",
       "      <td>1</td>\n",
       "      <td>0</td>\n",
       "      <td>0</td>\n",
       "      <td>0</td>\n",
       "    </tr>\n",
       "    <tr>\n",
       "      <th>5958</th>\n",
       "      <td>0.272727</td>\n",
       "      <td>New South Wales</td>\n",
       "      <td>Bathing</td>\n",
       "      <td>17</td>\n",
       "      <td>0</td>\n",
       "      <td>1</td>\n",
       "      <td>0</td>\n",
       "      <td>1</td>\n",
       "      <td>0</td>\n",
       "      <td>0</td>\n",
       "    </tr>\n",
       "    <tr>\n",
       "      <th>5963</th>\n",
       "      <td>0.187500</td>\n",
       "      <td>North Island</td>\n",
       "      <td>Swimming</td>\n",
       "      <td>28</td>\n",
       "      <td>0</td>\n",
       "      <td>1</td>\n",
       "      <td>0</td>\n",
       "      <td>0</td>\n",
       "      <td>0</td>\n",
       "      <td>1</td>\n",
       "    </tr>\n",
       "    <tr>\n",
       "      <th>5991</th>\n",
       "      <td>0.272727</td>\n",
       "      <td>Victoria</td>\n",
       "      <td>Bathing</td>\n",
       "      <td>22</td>\n",
       "      <td>0</td>\n",
       "      <td>1</td>\n",
       "      <td>1</td>\n",
       "      <td>0</td>\n",
       "      <td>0</td>\n",
       "      <td>0</td>\n",
       "    </tr>\n",
       "  </tbody>\n",
       "</table>\n",
       "<p>1470 rows × 10 columns</p>\n",
       "</div>"
      ],
      "text/plain": [
       "       Country             Area  Activity Age  Sex_F  Sex_M  Time_Afternoon  \\\n",
       "1     0.040100          Georgia  Standing  11      1      0               1   \n",
       "2     0.040100           Hawaii   Surfing  48      0      1               0   \n",
       "6     0.360000       Pernambuco  Swimming  18      0      1               1   \n",
       "8     0.040100          Florida   Walking  15      0      1               0   \n",
       "9     0.040100          Florida  Standing  12      0      1               1   \n",
       "...        ...              ...       ...  ..    ...    ...             ...   \n",
       "5814  0.272727       Queensland  Swimming  12      0      1               1   \n",
       "5844  0.040100         New York  Swimming  14      0      1               1   \n",
       "5958  0.272727  New South Wales   Bathing  17      0      1               0   \n",
       "5963  0.187500     North Island  Swimming  28      0      1               0   \n",
       "5991  0.272727         Victoria   Bathing  22      0      1               1   \n",
       "\n",
       "      Time_Evening  Time_Morning  Time_Night  \n",
       "1                0             0           0  \n",
       "2                0             1           0  \n",
       "6                0             0           0  \n",
       "8                1             0           0  \n",
       "9                0             0           0  \n",
       "...            ...           ...         ...  \n",
       "5814             0             0           0  \n",
       "5844             0             0           0  \n",
       "5958             1             0           0  \n",
       "5963             0             0           1  \n",
       "5991             0             0           0  \n",
       "\n",
       "[1470 rows x 10 columns]"
      ]
     },
     "execution_count": 69,
     "metadata": {},
     "output_type": "execute_result"
    }
   ],
   "source": [
    "X"
   ]
  },
  {
   "cell_type": "markdown",
   "id": "7ea72bed",
   "metadata": {},
   "source": [
    "## Target Encoding Activity column"
   ]
  },
  {
   "cell_type": "code",
   "execution_count": 70,
   "id": "93e5707c",
   "metadata": {},
   "outputs": [
    {
     "name": "stderr",
     "output_type": "stream",
     "text": [
      "C:\\Users\\nihal\\Anaconda3\\envs\\MLprojects\\lib\\site-packages\\category_encoders\\utils.py:21: FutureWarning: is_categorical is deprecated and will be removed in a future version.  Use is_categorical_dtype instead\n",
      "  elif pd.api.types.is_categorical(cols):\n"
     ]
    },
    {
     "data": {
      "text/html": [
       "<div>\n",
       "<style scoped>\n",
       "    .dataframe tbody tr th:only-of-type {\n",
       "        vertical-align: middle;\n",
       "    }\n",
       "\n",
       "    .dataframe tbody tr th {\n",
       "        vertical-align: top;\n",
       "    }\n",
       "\n",
       "    .dataframe thead th {\n",
       "        text-align: right;\n",
       "    }\n",
       "</style>\n",
       "<table border=\"1\" class=\"dataframe\">\n",
       "  <thead>\n",
       "    <tr style=\"text-align: right;\">\n",
       "      <th></th>\n",
       "      <th>Activity</th>\n",
       "    </tr>\n",
       "  </thead>\n",
       "  <tbody>\n",
       "    <tr>\n",
       "      <th>1</th>\n",
       "      <td>0.084746</td>\n",
       "    </tr>\n",
       "    <tr>\n",
       "      <th>2</th>\n",
       "      <td>0.056410</td>\n",
       "    </tr>\n",
       "    <tr>\n",
       "      <th>6</th>\n",
       "      <td>0.275748</td>\n",
       "    </tr>\n",
       "    <tr>\n",
       "      <th>8</th>\n",
       "      <td>0.076923</td>\n",
       "    </tr>\n",
       "    <tr>\n",
       "      <th>9</th>\n",
       "      <td>0.084746</td>\n",
       "    </tr>\n",
       "    <tr>\n",
       "      <th>...</th>\n",
       "      <td>...</td>\n",
       "    </tr>\n",
       "    <tr>\n",
       "      <th>5814</th>\n",
       "      <td>0.275748</td>\n",
       "    </tr>\n",
       "    <tr>\n",
       "      <th>5844</th>\n",
       "      <td>0.275748</td>\n",
       "    </tr>\n",
       "    <tr>\n",
       "      <th>5958</th>\n",
       "      <td>0.550000</td>\n",
       "    </tr>\n",
       "    <tr>\n",
       "      <th>5963</th>\n",
       "      <td>0.275748</td>\n",
       "    </tr>\n",
       "    <tr>\n",
       "      <th>5991</th>\n",
       "      <td>0.550000</td>\n",
       "    </tr>\n",
       "  </tbody>\n",
       "</table>\n",
       "<p>1470 rows × 1 columns</p>\n",
       "</div>"
      ],
      "text/plain": [
       "      Activity\n",
       "1     0.084746\n",
       "2     0.056410\n",
       "6     0.275748\n",
       "8     0.076923\n",
       "9     0.084746\n",
       "...        ...\n",
       "5814  0.275748\n",
       "5844  0.275748\n",
       "5958  0.550000\n",
       "5963  0.275748\n",
       "5991  0.550000\n",
       "\n",
       "[1470 rows x 1 columns]"
      ]
     },
     "execution_count": 70,
     "metadata": {},
     "output_type": "execute_result"
    }
   ],
   "source": [
    "Activity_encoder = ce.TargetEncoder(cols='Activity')\n",
    "df2 = Activity_encoder.fit_transform(df['Activity'], df['Fatal (Y/N)'])\n",
    "df2"
   ]
  },
  {
   "cell_type": "code",
   "execution_count": 71,
   "id": "5834dda1",
   "metadata": {},
   "outputs": [],
   "source": [
    "X['Activity'] = df2"
   ]
  },
  {
   "cell_type": "code",
   "execution_count": 72,
   "id": "6ba8023d",
   "metadata": {},
   "outputs": [
    {
     "data": {
      "text/html": [
       "<div>\n",
       "<style scoped>\n",
       "    .dataframe tbody tr th:only-of-type {\n",
       "        vertical-align: middle;\n",
       "    }\n",
       "\n",
       "    .dataframe tbody tr th {\n",
       "        vertical-align: top;\n",
       "    }\n",
       "\n",
       "    .dataframe thead th {\n",
       "        text-align: right;\n",
       "    }\n",
       "</style>\n",
       "<table border=\"1\" class=\"dataframe\">\n",
       "  <thead>\n",
       "    <tr style=\"text-align: right;\">\n",
       "      <th></th>\n",
       "      <th>Country</th>\n",
       "      <th>Area</th>\n",
       "      <th>Activity</th>\n",
       "      <th>Age</th>\n",
       "      <th>Sex_F</th>\n",
       "      <th>Sex_M</th>\n",
       "      <th>Time_Afternoon</th>\n",
       "      <th>Time_Evening</th>\n",
       "      <th>Time_Morning</th>\n",
       "      <th>Time_Night</th>\n",
       "    </tr>\n",
       "  </thead>\n",
       "  <tbody>\n",
       "    <tr>\n",
       "      <th>1</th>\n",
       "      <td>0.040100</td>\n",
       "      <td>Georgia</td>\n",
       "      <td>0.084746</td>\n",
       "      <td>11</td>\n",
       "      <td>1</td>\n",
       "      <td>0</td>\n",
       "      <td>1</td>\n",
       "      <td>0</td>\n",
       "      <td>0</td>\n",
       "      <td>0</td>\n",
       "    </tr>\n",
       "    <tr>\n",
       "      <th>2</th>\n",
       "      <td>0.040100</td>\n",
       "      <td>Hawaii</td>\n",
       "      <td>0.056410</td>\n",
       "      <td>48</td>\n",
       "      <td>0</td>\n",
       "      <td>1</td>\n",
       "      <td>0</td>\n",
       "      <td>0</td>\n",
       "      <td>1</td>\n",
       "      <td>0</td>\n",
       "    </tr>\n",
       "    <tr>\n",
       "      <th>6</th>\n",
       "      <td>0.360000</td>\n",
       "      <td>Pernambuco</td>\n",
       "      <td>0.275748</td>\n",
       "      <td>18</td>\n",
       "      <td>0</td>\n",
       "      <td>1</td>\n",
       "      <td>1</td>\n",
       "      <td>0</td>\n",
       "      <td>0</td>\n",
       "      <td>0</td>\n",
       "    </tr>\n",
       "    <tr>\n",
       "      <th>8</th>\n",
       "      <td>0.040100</td>\n",
       "      <td>Florida</td>\n",
       "      <td>0.076923</td>\n",
       "      <td>15</td>\n",
       "      <td>0</td>\n",
       "      <td>1</td>\n",
       "      <td>0</td>\n",
       "      <td>1</td>\n",
       "      <td>0</td>\n",
       "      <td>0</td>\n",
       "    </tr>\n",
       "    <tr>\n",
       "      <th>9</th>\n",
       "      <td>0.040100</td>\n",
       "      <td>Florida</td>\n",
       "      <td>0.084746</td>\n",
       "      <td>12</td>\n",
       "      <td>0</td>\n",
       "      <td>1</td>\n",
       "      <td>1</td>\n",
       "      <td>0</td>\n",
       "      <td>0</td>\n",
       "      <td>0</td>\n",
       "    </tr>\n",
       "    <tr>\n",
       "      <th>...</th>\n",
       "      <td>...</td>\n",
       "      <td>...</td>\n",
       "      <td>...</td>\n",
       "      <td>...</td>\n",
       "      <td>...</td>\n",
       "      <td>...</td>\n",
       "      <td>...</td>\n",
       "      <td>...</td>\n",
       "      <td>...</td>\n",
       "      <td>...</td>\n",
       "    </tr>\n",
       "    <tr>\n",
       "      <th>5814</th>\n",
       "      <td>0.272727</td>\n",
       "      <td>Queensland</td>\n",
       "      <td>0.275748</td>\n",
       "      <td>12</td>\n",
       "      <td>0</td>\n",
       "      <td>1</td>\n",
       "      <td>1</td>\n",
       "      <td>0</td>\n",
       "      <td>0</td>\n",
       "      <td>0</td>\n",
       "    </tr>\n",
       "    <tr>\n",
       "      <th>5844</th>\n",
       "      <td>0.040100</td>\n",
       "      <td>New York</td>\n",
       "      <td>0.275748</td>\n",
       "      <td>14</td>\n",
       "      <td>0</td>\n",
       "      <td>1</td>\n",
       "      <td>1</td>\n",
       "      <td>0</td>\n",
       "      <td>0</td>\n",
       "      <td>0</td>\n",
       "    </tr>\n",
       "    <tr>\n",
       "      <th>5958</th>\n",
       "      <td>0.272727</td>\n",
       "      <td>New South Wales</td>\n",
       "      <td>0.550000</td>\n",
       "      <td>17</td>\n",
       "      <td>0</td>\n",
       "      <td>1</td>\n",
       "      <td>0</td>\n",
       "      <td>1</td>\n",
       "      <td>0</td>\n",
       "      <td>0</td>\n",
       "    </tr>\n",
       "    <tr>\n",
       "      <th>5963</th>\n",
       "      <td>0.187500</td>\n",
       "      <td>North Island</td>\n",
       "      <td>0.275748</td>\n",
       "      <td>28</td>\n",
       "      <td>0</td>\n",
       "      <td>1</td>\n",
       "      <td>0</td>\n",
       "      <td>0</td>\n",
       "      <td>0</td>\n",
       "      <td>1</td>\n",
       "    </tr>\n",
       "    <tr>\n",
       "      <th>5991</th>\n",
       "      <td>0.272727</td>\n",
       "      <td>Victoria</td>\n",
       "      <td>0.550000</td>\n",
       "      <td>22</td>\n",
       "      <td>0</td>\n",
       "      <td>1</td>\n",
       "      <td>1</td>\n",
       "      <td>0</td>\n",
       "      <td>0</td>\n",
       "      <td>0</td>\n",
       "    </tr>\n",
       "  </tbody>\n",
       "</table>\n",
       "<p>1470 rows × 10 columns</p>\n",
       "</div>"
      ],
      "text/plain": [
       "       Country             Area  Activity Age  Sex_F  Sex_M  Time_Afternoon  \\\n",
       "1     0.040100          Georgia  0.084746  11      1      0               1   \n",
       "2     0.040100           Hawaii  0.056410  48      0      1               0   \n",
       "6     0.360000       Pernambuco  0.275748  18      0      1               1   \n",
       "8     0.040100          Florida  0.076923  15      0      1               0   \n",
       "9     0.040100          Florida  0.084746  12      0      1               1   \n",
       "...        ...              ...       ...  ..    ...    ...             ...   \n",
       "5814  0.272727       Queensland  0.275748  12      0      1               1   \n",
       "5844  0.040100         New York  0.275748  14      0      1               1   \n",
       "5958  0.272727  New South Wales  0.550000  17      0      1               0   \n",
       "5963  0.187500     North Island  0.275748  28      0      1               0   \n",
       "5991  0.272727         Victoria  0.550000  22      0      1               1   \n",
       "\n",
       "      Time_Evening  Time_Morning  Time_Night  \n",
       "1                0             0           0  \n",
       "2                0             1           0  \n",
       "6                0             0           0  \n",
       "8                1             0           0  \n",
       "9                0             0           0  \n",
       "...            ...           ...         ...  \n",
       "5814             0             0           0  \n",
       "5844             0             0           0  \n",
       "5958             1             0           0  \n",
       "5963             0             0           1  \n",
       "5991             0             0           0  \n",
       "\n",
       "[1470 rows x 10 columns]"
      ]
     },
     "execution_count": 72,
     "metadata": {},
     "output_type": "execute_result"
    }
   ],
   "source": [
    "X"
   ]
  },
  {
   "cell_type": "code",
   "execution_count": 73,
   "id": "925c1991",
   "metadata": {},
   "outputs": [
    {
     "data": {
      "text/plain": [
       "1       0\n",
       "2       0\n",
       "6       1\n",
       "8       0\n",
       "9       0\n",
       "       ..\n",
       "5814    1\n",
       "5844    1\n",
       "5958    1\n",
       "5963    0\n",
       "5991    1\n",
       "Name: Fatal (Y/N), Length: 1470, dtype: int64"
      ]
     },
     "execution_count": 73,
     "metadata": {},
     "output_type": "execute_result"
    }
   ],
   "source": [
    "y"
   ]
  },
  {
   "cell_type": "code",
   "execution_count": 74,
   "id": "139e232d",
   "metadata": {},
   "outputs": [
    {
     "data": {
      "text/plain": [
       "{'Activity': Activity\n",
       "  1     0.084746\n",
       "  2     0.056410\n",
       "  3     0.275748\n",
       "  4     0.076923\n",
       "  5     0.071429\n",
       "  6     0.157407\n",
       "  7     0.195652\n",
       "  8     0.022727\n",
       "  9     0.076923\n",
       "  10    0.282609\n",
       "  11    0.100005\n",
       "  12    0.050000\n",
       "  13    0.266667\n",
       "  14    0.162162\n",
       "  15    0.272721\n",
       "  16    0.083334\n",
       "  17    0.300000\n",
       "  18    0.230769\n",
       "  19    0.550000\n",
       " -1     0.141497\n",
       " -2     0.141497\n",
       " dtype: float64}"
      ]
     },
     "execution_count": 74,
     "metadata": {},
     "output_type": "execute_result"
    }
   ],
   "source": [
    "Activity_encoder.mapping"
   ]
  },
  {
   "cell_type": "code",
   "execution_count": 75,
   "id": "c56197fb",
   "metadata": {},
   "outputs": [
    {
     "data": {
      "text/plain": [
       "array(['Standing', 'Surfing', 'Swimming', 'Walking', 'Wading',\n",
       "       'Spearfishing', 'Snorkeling', 'Fishing', 'Kayaking',\n",
       "       'Body boarding', 'Free diving', 'Boogie boarding', 'Diving',\n",
       "       'Body surfing', 'Windsurfing', 'Boogie Boarding', 'Scuba diving',\n",
       "       'Treading water', 'Bathing'], dtype=object)"
      ]
     },
     "execution_count": 75,
     "metadata": {},
     "output_type": "execute_result"
    }
   ],
   "source": [
    "df['Activity'].unique()"
   ]
  },
  {
   "cell_type": "code",
   "execution_count": 76,
   "id": "37a59ecb",
   "metadata": {},
   "outputs": [
    {
     "data": {
      "text/plain": [
       "array([0.08474576, 0.05641026, 0.27574751, 0.07692347, 0.07142857,\n",
       "       0.15740741, 0.19565217, 0.02272727, 0.2826087 , 0.10000512,\n",
       "       0.05      , 0.26666656, 0.16216216, 0.27272132, 0.0833343 ,\n",
       "       0.3       , 0.23076923, 0.55      ])"
      ]
     },
     "execution_count": 76,
     "metadata": {},
     "output_type": "execute_result"
    }
   ],
   "source": [
    "df2['Activity'].unique()"
   ]
  },
  {
   "cell_type": "code",
   "execution_count": 77,
   "id": "53f23591",
   "metadata": {},
   "outputs": [],
   "source": [
    "activity_encoding = {'Standing':0.08474576, 'Surfing':0.05641026, 'Swimming': 0.27574751, 'Walking': 0.07692347, 'Wading':0.07142857,\n",
    "       'Spearfishing': 0.15740741, 'Snorkeling': 0.19565217, 'Fishing': 0.02272727, 'Kayaking': 0.2826087 ,\n",
    "       'Body boarding': 0.10000512 , 'Free diving': 0.05, 'Boogie boarding': 0.26666656, 'Diving': 0.16216216,\n",
    "       'Body surfing': 0.27272132, 'Windsurfing': 0.0833343, 'Boogie Boarding': 0.3 , 'Scuba diving': 0.23076923,\n",
    "       'Treading water': 0.55, 'Bathing': 0.14149755}"
   ]
  },
  {
   "cell_type": "code",
   "execution_count": 78,
   "id": "f546ccf3",
   "metadata": {},
   "outputs": [],
   "source": [
    "X = X.drop(['Area'], axis=1)"
   ]
  },
  {
   "cell_type": "markdown",
   "id": "ba55a719",
   "metadata": {},
   "source": [
    "## Model Training"
   ]
  },
  {
   "cell_type": "code",
   "execution_count": 79,
   "id": "995d88db",
   "metadata": {},
   "outputs": [],
   "source": [
    "X['Age'].replace({'6½':'6'}, inplace=True)"
   ]
  },
  {
   "cell_type": "code",
   "execution_count": 80,
   "id": "8b5513f7",
   "metadata": {},
   "outputs": [
    {
     "data": {
      "text/plain": [
       "array(['11', '48', '18', '15', '12', '10', '60', '37', '19', '69', '55',\n",
       "       '35', '20', '54', '25', '14', '31', '40', '28', '17', '3', '13',\n",
       "       '34', '46', '32', '33', '21', '51', '58', '30', '26', '22', '57',\n",
       "       '47', '16', '61', '65', '73', '41', '42', '36', '66', '29', '43',\n",
       "       '49', '9', '59', '64', '23', '52', '39', '45', '44', '7', '27',\n",
       "       '38', '68', '6', '63', '70', '50', '53', '8', '24', '56', '86',\n",
       "       '77', '84', '62', '5', '75'], dtype=object)"
      ]
     },
     "execution_count": 80,
     "metadata": {},
     "output_type": "execute_result"
    }
   ],
   "source": [
    "X['Age'].unique()"
   ]
  },
  {
   "cell_type": "code",
   "execution_count": 81,
   "id": "8b2606f9",
   "metadata": {},
   "outputs": [],
   "source": [
    "X['Age'] = pd.to_numeric(X['Age'])"
   ]
  },
  {
   "cell_type": "code",
   "execution_count": 82,
   "id": "5694f614",
   "metadata": {},
   "outputs": [
    {
     "name": "stdout",
     "output_type": "stream",
     "text": [
      "<class 'pandas.core.frame.DataFrame'>\n",
      "Int64Index: 1470 entries, 1 to 5991\n",
      "Data columns (total 9 columns):\n",
      " #   Column          Non-Null Count  Dtype  \n",
      "---  ------          --------------  -----  \n",
      " 0   Country         1470 non-null   float64\n",
      " 1   Activity        1470 non-null   float64\n",
      " 2   Age             1470 non-null   int64  \n",
      " 3   Sex_F           1470 non-null   uint8  \n",
      " 4   Sex_M           1470 non-null   uint8  \n",
      " 5   Time_Afternoon  1470 non-null   uint8  \n",
      " 6   Time_Evening    1470 non-null   uint8  \n",
      " 7   Time_Morning    1470 non-null   uint8  \n",
      " 8   Time_Night      1470 non-null   uint8  \n",
      "dtypes: float64(2), int64(1), uint8(6)\n",
      "memory usage: 86.8 KB\n"
     ]
    }
   ],
   "source": [
    "X.info()"
   ]
  },
  {
   "cell_type": "code",
   "execution_count": 83,
   "id": "dc9227a9",
   "metadata": {},
   "outputs": [],
   "source": [
    "from sklearn.model_selection import train_test_split"
   ]
  },
  {
   "cell_type": "code",
   "execution_count": 84,
   "id": "eb36c243",
   "metadata": {},
   "outputs": [],
   "source": [
    "X_train, X_test, y_train, y_test = train_test_split(X, y, test_size=0.33)"
   ]
  },
  {
   "cell_type": "markdown",
   "id": "e6aaee12",
   "metadata": {},
   "source": [
    "## Logistic Regression"
   ]
  },
  {
   "cell_type": "code",
   "execution_count": 85,
   "id": "a4a08488",
   "metadata": {},
   "outputs": [],
   "source": [
    "from sklearn.linear_model import LogisticRegression\n",
    "from sklearn.metrics import accuracy_score\n",
    "from sklearn.metrics import confusion_matrix"
   ]
  },
  {
   "cell_type": "code",
   "execution_count": 86,
   "id": "74e24537",
   "metadata": {},
   "outputs": [
    {
     "name": "stderr",
     "output_type": "stream",
     "text": [
      "C:\\Users\\nihal\\Anaconda3\\envs\\MLprojects\\lib\\site-packages\\sklearn\\linear_model\\_logistic.py:763: ConvergenceWarning: lbfgs failed to converge (status=1):\n",
      "STOP: TOTAL NO. of ITERATIONS REACHED LIMIT.\n",
      "\n",
      "Increase the number of iterations (max_iter) or scale the data as shown in:\n",
      "    https://scikit-learn.org/stable/modules/preprocessing.html\n",
      "Please also refer to the documentation for alternative solver options:\n",
      "    https://scikit-learn.org/stable/modules/linear_model.html#logistic-regression\n",
      "  n_iter_i = _check_optimize_result(\n"
     ]
    },
    {
     "data": {
      "text/plain": [
       "LogisticRegression()"
      ]
     },
     "execution_count": 86,
     "metadata": {},
     "output_type": "execute_result"
    }
   ],
   "source": [
    "clf_LogReg = LogisticRegression()\n",
    "clf_LogReg.fit(X_train, y_train)"
   ]
  },
  {
   "cell_type": "code",
   "execution_count": 87,
   "id": "aff3ddda",
   "metadata": {},
   "outputs": [
    {
     "name": "stdout",
     "output_type": "stream",
     "text": [
      "0.8600823045267489\n"
     ]
    }
   ],
   "source": [
    "pred_LogReg = clf_LogReg.predict(X_test)\n",
    "print(accuracy_score(y_test, pred_LogReg))"
   ]
  },
  {
   "cell_type": "code",
   "execution_count": 88,
   "id": "61ee05b1",
   "metadata": {},
   "outputs": [
    {
     "data": {
      "text/plain": [
       "array([[413,  10],\n",
       "       [ 58,   5]], dtype=int64)"
      ]
     },
     "execution_count": 88,
     "metadata": {},
     "output_type": "execute_result"
    }
   ],
   "source": [
    "confusion_matrix(y_test, pred_LogReg)"
   ]
  },
  {
   "cell_type": "code",
   "execution_count": 89,
   "id": "e62ef5d3",
   "metadata": {},
   "outputs": [
    {
     "data": {
      "text/plain": [
       "63"
      ]
     },
     "execution_count": 89,
     "metadata": {},
     "output_type": "execute_result"
    }
   ],
   "source": [
    "(y_test == 1).sum()"
   ]
  },
  {
   "cell_type": "markdown",
   "id": "7084eb21",
   "metadata": {},
   "source": [
    "## decision Tree"
   ]
  },
  {
   "cell_type": "code",
   "execution_count": 90,
   "id": "3f8d076f",
   "metadata": {},
   "outputs": [],
   "source": [
    "from sklearn.tree import DecisionTreeClassifier"
   ]
  },
  {
   "cell_type": "code",
   "execution_count": 91,
   "id": "e8664c09",
   "metadata": {},
   "outputs": [
    {
     "data": {
      "text/plain": [
       "DecisionTreeClassifier()"
      ]
     },
     "execution_count": 91,
     "metadata": {},
     "output_type": "execute_result"
    }
   ],
   "source": [
    "clf_DecTree = DecisionTreeClassifier()\n",
    "clf_DecTree.fit(X_train, y_train)"
   ]
  },
  {
   "cell_type": "code",
   "execution_count": 92,
   "id": "95deb12f",
   "metadata": {},
   "outputs": [
    {
     "name": "stdout",
     "output_type": "stream",
     "text": [
      "0.8209876543209876\n"
     ]
    }
   ],
   "source": [
    "pred_DecTree = clf_DecTree.predict(X_test)\n",
    "print(accuracy_score(y_test, pred_DecTree))"
   ]
  },
  {
   "cell_type": "code",
   "execution_count": 93,
   "id": "6990b9d2",
   "metadata": {},
   "outputs": [
    {
     "data": {
      "text/plain": [
       "array([[378,  45],\n",
       "       [ 42,  21]], dtype=int64)"
      ]
     },
     "execution_count": 93,
     "metadata": {},
     "output_type": "execute_result"
    }
   ],
   "source": [
    "confusion_matrix(y_test, pred_DecTree)"
   ]
  },
  {
   "cell_type": "markdown",
   "id": "affadc1b",
   "metadata": {},
   "source": [
    "## Random Forest"
   ]
  },
  {
   "cell_type": "code",
   "execution_count": 94,
   "id": "d7febf6f",
   "metadata": {},
   "outputs": [],
   "source": [
    "from sklearn.ensemble import RandomForestClassifier"
   ]
  },
  {
   "cell_type": "code",
   "execution_count": 95,
   "id": "3bba9a1f",
   "metadata": {},
   "outputs": [
    {
     "data": {
      "text/plain": [
       "RandomForestClassifier()"
      ]
     },
     "execution_count": 95,
     "metadata": {},
     "output_type": "execute_result"
    }
   ],
   "source": [
    "clf_RF = RandomForestClassifier()\n",
    "clf_RF.fit(X_train, y_train)"
   ]
  },
  {
   "cell_type": "code",
   "execution_count": 96,
   "id": "bfb94f73",
   "metadata": {},
   "outputs": [
    {
     "name": "stdout",
     "output_type": "stream",
     "text": [
      "0.8497942386831275\n"
     ]
    }
   ],
   "source": [
    "pred_RF = clf_RF.predict(X_test)\n",
    "print(accuracy_score(y_test, pred_RF))"
   ]
  },
  {
   "cell_type": "code",
   "execution_count": 97,
   "id": "4a490e20",
   "metadata": {},
   "outputs": [
    {
     "data": {
      "text/plain": [
       "array([[395,  28],\n",
       "       [ 45,  18]], dtype=int64)"
      ]
     },
     "execution_count": 97,
     "metadata": {},
     "output_type": "execute_result"
    }
   ],
   "source": [
    "confusion_matrix(y_test, pred_RF)"
   ]
  },
  {
   "cell_type": "markdown",
   "id": "d2d6b736",
   "metadata": {},
   "source": [
    "## SMOTE"
   ]
  },
  {
   "cell_type": "code",
   "execution_count": 98,
   "id": "a4aed093",
   "metadata": {},
   "outputs": [],
   "source": [
    "from imblearn.over_sampling import SMOTE"
   ]
  },
  {
   "cell_type": "code",
   "execution_count": 99,
   "id": "5788a3a2",
   "metadata": {},
   "outputs": [
    {
     "data": {
      "text/plain": [
       "0    1262\n",
       "1     208\n",
       "Name: Fatal (Y/N), dtype: int64"
      ]
     },
     "execution_count": 99,
     "metadata": {},
     "output_type": "execute_result"
    }
   ],
   "source": [
    "y.value_counts()"
   ]
  },
  {
   "cell_type": "code",
   "execution_count": 102,
   "id": "aabc75b0",
   "metadata": {},
   "outputs": [],
   "source": [
    "sm = SMOTE()\n",
    "X_train_res, y_train_res = sm.fit_resample(X_train, y_train)"
   ]
  },
  {
   "cell_type": "code",
   "execution_count": 103,
   "id": "36b52895",
   "metadata": {},
   "outputs": [
    {
     "data": {
      "text/plain": [
       "0    839\n",
       "1    839\n",
       "Name: Fatal (Y/N), dtype: int64"
      ]
     },
     "execution_count": 103,
     "metadata": {},
     "output_type": "execute_result"
    }
   ],
   "source": [
    "y_train_res.value_counts()"
   ]
  },
  {
   "cell_type": "code",
   "execution_count": 104,
   "id": "39574232",
   "metadata": {},
   "outputs": [
    {
     "name": "stdout",
     "output_type": "stream",
     "text": [
      "0.8209876543209876\n"
     ]
    }
   ],
   "source": [
    "clf1 = RandomForestClassifier()\n",
    "clf1.fit(X_train_res, y_train_res)\n",
    "\n",
    "pred1 = clf1.predict(X_test)\n",
    "print(accuracy_score(y_test, pred1))"
   ]
  },
  {
   "cell_type": "code",
   "execution_count": 105,
   "id": "e77d635b",
   "metadata": {},
   "outputs": [
    {
     "data": {
      "text/plain": [
       "array([[377,  46],\n",
       "       [ 41,  22]], dtype=int64)"
      ]
     },
     "execution_count": 105,
     "metadata": {},
     "output_type": "execute_result"
    }
   ],
   "source": [
    "confusion_matrix(y_test, pred1)"
   ]
  },
  {
   "cell_type": "code",
   "execution_count": 106,
   "id": "fc5f1aac",
   "metadata": {},
   "outputs": [
    {
     "name": "stdout",
     "output_type": "stream",
     "text": [
      "0.8189300411522634\n"
     ]
    }
   ],
   "source": [
    "clf2 = LogisticRegression()\n",
    "clf2.fit(X_train_res, y_train_res)\n",
    "\n",
    "pred2 = clf2.predict(X_test)\n",
    "print(accuracy_score(y_test, pred2))"
   ]
  },
  {
   "cell_type": "code",
   "execution_count": 107,
   "id": "bf9fc1a0",
   "metadata": {},
   "outputs": [
    {
     "data": {
      "text/plain": [
       "array([[360,  63],\n",
       "       [ 25,  38]], dtype=int64)"
      ]
     },
     "execution_count": 107,
     "metadata": {},
     "output_type": "execute_result"
    }
   ],
   "source": [
    "confusion_matrix(y_test, pred2)"
   ]
  },
  {
   "cell_type": "markdown",
   "id": "6c5be78e",
   "metadata": {},
   "source": [
    "## Pickleing the model"
   ]
  },
  {
   "cell_type": "code",
   "execution_count": 108,
   "id": "590fa986",
   "metadata": {},
   "outputs": [],
   "source": [
    "import pickle"
   ]
  },
  {
   "cell_type": "code",
   "execution_count": 109,
   "id": "6f4d1b19",
   "metadata": {},
   "outputs": [],
   "source": [
    "pickle_out = open(\"classifierShark.pickle\", \"wb\")\n",
    "pickle.dump(clf2, pickle_out)\n",
    "pickle_out.close()"
   ]
  },
  {
   "cell_type": "code",
   "execution_count": 110,
   "id": "6abe3db4",
   "metadata": {},
   "outputs": [],
   "source": [
    "pickle_in = open(\"classifierShark.pickle\", \"rb\")\n",
    "final_classifier = pickle.load(pickle_in)"
   ]
  },
  {
   "cell_type": "code",
   "execution_count": 111,
   "id": "2ecbd6f7",
   "metadata": {},
   "outputs": [
    {
     "data": {
      "text/plain": [
       "0.8189300411522634"
      ]
     },
     "execution_count": 111,
     "metadata": {},
     "output_type": "execute_result"
    }
   ],
   "source": [
    "final_predictions = final_classifier.predict(X_test)\n",
    "accuracy_score(y_test, final_predictions)"
   ]
  },
  {
   "cell_type": "code",
   "execution_count": null,
   "id": "73ef32c5",
   "metadata": {},
   "outputs": [],
   "source": []
  }
 ],
 "metadata": {
  "kernelspec": {
   "display_name": "Python 3 (ipykernel)",
   "language": "python",
   "name": "python3"
  },
  "language_info": {
   "codemirror_mode": {
    "name": "ipython",
    "version": 3
   },
   "file_extension": ".py",
   "mimetype": "text/x-python",
   "name": "python",
   "nbconvert_exporter": "python",
   "pygments_lexer": "ipython3",
   "version": "3.9.6"
  }
 },
 "nbformat": 4,
 "nbformat_minor": 5
}
